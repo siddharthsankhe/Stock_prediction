{
  "nbformat": 4,
  "nbformat_minor": 0,
  "metadata": {
    "colab": {
      "name": "stock_pred.ipynb",
      "provenance": []
    },
    "kernelspec": {
      "name": "python3",
      "display_name": "Python 3"
    },
    "accelerator": "GPU"
  },
  "cells": [
    {
      "cell_type": "code",
      "metadata": {
        "id": "R1KueVkoF_Ne",
        "colab": {
          "base_uri": "https://localhost:8080/"
        },
        "outputId": "94b38291-d185-4b7f-bd2c-1e2a0141b5e2"
      },
      "source": [
        "from google.colab import drive\n",
        "drive.mount('/content/gdrive')"
      ],
      "execution_count": 8,
      "outputs": [
        {
          "output_type": "stream",
          "text": [
            "Mounted at /content/gdrive\n"
          ],
          "name": "stdout"
        }
      ]
    },
    {
      "cell_type": "code",
      "metadata": {
        "id": "kUIOID75cmZp"
      },
      "source": [
        "import pandas as pd"
      ],
      "execution_count": 9,
      "outputs": []
    },
    {
      "cell_type": "code",
      "metadata": {
        "colab": {
          "base_uri": "https://localhost:8080/"
        },
        "id": "R8C3cPcUGHRK",
        "outputId": "4c9f889a-7805-4a3d-9fcc-e237529c42d6"
      },
      "source": [
        "import os\n",
        "os.listdir('/content/gdrive/My Drive/Colab Notebooks/data/stock_data')[:2]"
      ],
      "execution_count": 10,
      "outputs": [
        {
          "output_type": "execute_result",
          "data": {
            "text/plain": [
              "['ASIANPAINT.csv', 'BAJAJ-AUTO.csv']"
            ]
          },
          "metadata": {
            "tags": []
          },
          "execution_count": 10
        }
      ]
    },
    {
      "cell_type": "code",
      "metadata": {
        "colab": {
          "base_uri": "https://localhost:8080/"
        },
        "id": "OlwoajjmdJYU",
        "outputId": "65775ac8-1df3-4f4f-a043-eb96332e8158"
      },
      "source": [
        "!pip install dabl\n",
        "\n",
        "import dabl"
      ],
      "execution_count": 11,
      "outputs": [
        {
          "output_type": "stream",
          "text": [
            "Collecting dabl\n",
            "\u001b[?25l  Downloading https://files.pythonhosted.org/packages/03/2b/44cda7092e17e477bba5145ec2b10db9969eff38218bc2f256ec976b9820/dabl-0.1.9.tar.gz (566kB)\n",
            "\r\u001b[K     |▋                               | 10kB 22.0MB/s eta 0:00:01\r\u001b[K     |█▏                              | 20kB 24.6MB/s eta 0:00:01\r\u001b[K     |█▊                              | 30kB 13.4MB/s eta 0:00:01\r\u001b[K     |██▎                             | 40kB 10.5MB/s eta 0:00:01\r\u001b[K     |███                             | 51kB 9.8MB/s eta 0:00:01\r\u001b[K     |███▌                            | 61kB 9.6MB/s eta 0:00:01\r\u001b[K     |████                            | 71kB 10.0MB/s eta 0:00:01\r\u001b[K     |████▋                           | 81kB 10.3MB/s eta 0:00:01\r\u001b[K     |█████▏                          | 92kB 10.2MB/s eta 0:00:01\r\u001b[K     |█████▉                          | 102kB 10.4MB/s eta 0:00:01\r\u001b[K     |██████▍                         | 112kB 10.4MB/s eta 0:00:01\r\u001b[K     |███████                         | 122kB 10.4MB/s eta 0:00:01\r\u001b[K     |███████▌                        | 133kB 10.4MB/s eta 0:00:01\r\u001b[K     |████████                        | 143kB 10.4MB/s eta 0:00:01\r\u001b[K     |████████▊                       | 153kB 10.4MB/s eta 0:00:01\r\u001b[K     |█████████▎                      | 163kB 10.4MB/s eta 0:00:01\r\u001b[K     |█████████▉                      | 174kB 10.4MB/s eta 0:00:01\r\u001b[K     |██████████▍                     | 184kB 10.4MB/s eta 0:00:01\r\u001b[K     |███████████                     | 194kB 10.4MB/s eta 0:00:01\r\u001b[K     |███████████▋                    | 204kB 10.4MB/s eta 0:00:01\r\u001b[K     |████████████▏                   | 215kB 10.4MB/s eta 0:00:01\r\u001b[K     |████████████▊                   | 225kB 10.4MB/s eta 0:00:01\r\u001b[K     |█████████████▎                  | 235kB 10.4MB/s eta 0:00:01\r\u001b[K     |█████████████▉                  | 245kB 10.4MB/s eta 0:00:01\r\u001b[K     |██████████████▌                 | 256kB 10.4MB/s eta 0:00:01\r\u001b[K     |███████████████                 | 266kB 10.4MB/s eta 0:00:01\r\u001b[K     |███████████████▋                | 276kB 10.4MB/s eta 0:00:01\r\u001b[K     |████████████████▏               | 286kB 10.4MB/s eta 0:00:01\r\u001b[K     |████████████████▊               | 296kB 10.4MB/s eta 0:00:01\r\u001b[K     |█████████████████▍              | 307kB 10.4MB/s eta 0:00:01\r\u001b[K     |██████████████████              | 317kB 10.4MB/s eta 0:00:01\r\u001b[K     |██████████████████▌             | 327kB 10.4MB/s eta 0:00:01\r\u001b[K     |███████████████████             | 337kB 10.4MB/s eta 0:00:01\r\u001b[K     |███████████████████▊            | 348kB 10.4MB/s eta 0:00:01\r\u001b[K     |████████████████████▎           | 358kB 10.4MB/s eta 0:00:01\r\u001b[K     |████████████████████▉           | 368kB 10.4MB/s eta 0:00:01\r\u001b[K     |█████████████████████▍          | 378kB 10.4MB/s eta 0:00:01\r\u001b[K     |██████████████████████          | 389kB 10.4MB/s eta 0:00:01\r\u001b[K     |██████████████████████▋         | 399kB 10.4MB/s eta 0:00:01\r\u001b[K     |███████████████████████▏        | 409kB 10.4MB/s eta 0:00:01\r\u001b[K     |███████████████████████▊        | 419kB 10.4MB/s eta 0:00:01\r\u001b[K     |████████████████████████▎       | 430kB 10.4MB/s eta 0:00:01\r\u001b[K     |████████████████████████▉       | 440kB 10.4MB/s eta 0:00:01\r\u001b[K     |█████████████████████████▌      | 450kB 10.4MB/s eta 0:00:01\r\u001b[K     |██████████████████████████      | 460kB 10.4MB/s eta 0:00:01\r\u001b[K     |██████████████████████████▋     | 471kB 10.4MB/s eta 0:00:01\r\u001b[K     |███████████████████████████▏    | 481kB 10.4MB/s eta 0:00:01\r\u001b[K     |███████████████████████████▊    | 491kB 10.4MB/s eta 0:00:01\r\u001b[K     |████████████████████████████▍   | 501kB 10.4MB/s eta 0:00:01\r\u001b[K     |█████████████████████████████   | 512kB 10.4MB/s eta 0:00:01\r\u001b[K     |█████████████████████████████▌  | 522kB 10.4MB/s eta 0:00:01\r\u001b[K     |██████████████████████████████  | 532kB 10.4MB/s eta 0:00:01\r\u001b[K     |██████████████████████████████▋ | 542kB 10.4MB/s eta 0:00:01\r\u001b[K     |███████████████████████████████▎| 552kB 10.4MB/s eta 0:00:01\r\u001b[K     |███████████████████████████████▉| 563kB 10.4MB/s eta 0:00:01\r\u001b[K     |████████████████████████████████| 573kB 10.4MB/s \n",
            "\u001b[?25hRequirement already satisfied: numpy in /usr/local/lib/python3.6/dist-packages (from dabl) (1.18.5)\n",
            "Requirement already satisfied: scipy in /usr/local/lib/python3.6/dist-packages (from dabl) (1.4.1)\n",
            "Requirement already satisfied: scikit-learn in /usr/local/lib/python3.6/dist-packages (from dabl) (0.22.2.post1)\n",
            "Requirement already satisfied: pandas in /usr/local/lib/python3.6/dist-packages (from dabl) (1.1.4)\n",
            "Requirement already satisfied: matplotlib in /usr/local/lib/python3.6/dist-packages (from dabl) (3.2.2)\n",
            "Requirement already satisfied: seaborn in /usr/local/lib/python3.6/dist-packages (from dabl) (0.11.0)\n",
            "Requirement already satisfied: joblib>=0.11 in /usr/local/lib/python3.6/dist-packages (from scikit-learn->dabl) (0.17.0)\n",
            "Requirement already satisfied: pytz>=2017.2 in /usr/local/lib/python3.6/dist-packages (from pandas->dabl) (2018.9)\n",
            "Requirement already satisfied: python-dateutil>=2.7.3 in /usr/local/lib/python3.6/dist-packages (from pandas->dabl) (2.8.1)\n",
            "Requirement already satisfied: cycler>=0.10 in /usr/local/lib/python3.6/dist-packages (from matplotlib->dabl) (0.10.0)\n",
            "Requirement already satisfied: kiwisolver>=1.0.1 in /usr/local/lib/python3.6/dist-packages (from matplotlib->dabl) (1.3.1)\n",
            "Requirement already satisfied: pyparsing!=2.0.4,!=2.1.2,!=2.1.6,>=2.0.1 in /usr/local/lib/python3.6/dist-packages (from matplotlib->dabl) (2.4.7)\n",
            "Requirement already satisfied: six>=1.5 in /usr/local/lib/python3.6/dist-packages (from python-dateutil>=2.7.3->pandas->dabl) (1.15.0)\n",
            "Building wheels for collected packages: dabl\n",
            "  Building wheel for dabl (setup.py) ... \u001b[?25l\u001b[?25hdone\n",
            "  Created wheel for dabl: filename=dabl-0.1.9-cp36-none-any.whl size=572788 sha256=b1b7d5a865bbe551d15aaad2c0030994d6218c4ac107d6c6fbfbdbdf83e6b110\n",
            "  Stored in directory: /root/.cache/pip/wheels/5c/cc/90/94172b7b3c03126e869bba34ed3852a617ddc6621ad1385697\n",
            "Successfully built dabl\n",
            "Installing collected packages: dabl\n",
            "Successfully installed dabl-0.1.9\n"
          ],
          "name": "stdout"
        }
      ]
    },
    {
      "cell_type": "code",
      "metadata": {
        "id": "lAvcABPHz175"
      },
      "source": [
        "import dabl"
      ],
      "execution_count": 12,
      "outputs": []
    },
    {
      "cell_type": "code",
      "metadata": {
        "id": "5W5J-5fwdMAR"
      },
      "source": [
        "##This DABL library help us to find missing data, feature type , if data is continuous , will also help us to take decision if column is useless or not"
      ],
      "execution_count": 13,
      "outputs": []
    },
    {
      "cell_type": "code",
      "metadata": {
        "id": "w_LjOY4gGAxl"
      },
      "source": [
        "SBIN_df = pd.read_csv('/content/gdrive/My Drive/Colab Notebooks/data/stock_data/SBIN.csv',index_col='Date',parse_dates=True)"
      ],
      "execution_count": 14,
      "outputs": []
    },
    {
      "cell_type": "code",
      "metadata": {
        "colab": {
          "base_uri": "https://localhost:8080/",
          "height": 235
        },
        "id": "6yxoiceDeOg-",
        "outputId": "9f9eae20-3c63-4469-fe69-7259117cd082"
      },
      "source": [
        "SBIN_df.head()"
      ],
      "execution_count": 15,
      "outputs": [
        {
          "output_type": "execute_result",
          "data": {
            "text/html": [
              "<div>\n",
              "<style scoped>\n",
              "    .dataframe tbody tr th:only-of-type {\n",
              "        vertical-align: middle;\n",
              "    }\n",
              "\n",
              "    .dataframe tbody tr th {\n",
              "        vertical-align: top;\n",
              "    }\n",
              "\n",
              "    .dataframe thead th {\n",
              "        text-align: right;\n",
              "    }\n",
              "</style>\n",
              "<table border=\"1\" class=\"dataframe\">\n",
              "  <thead>\n",
              "    <tr style=\"text-align: right;\">\n",
              "      <th></th>\n",
              "      <th>Symbol</th>\n",
              "      <th>Series</th>\n",
              "      <th>Prev Close</th>\n",
              "      <th>Open</th>\n",
              "      <th>High</th>\n",
              "      <th>Low</th>\n",
              "      <th>Last</th>\n",
              "      <th>Close</th>\n",
              "      <th>VWAP</th>\n",
              "      <th>Volume</th>\n",
              "      <th>Turnover</th>\n",
              "      <th>Trades</th>\n",
              "      <th>Deliverable Volume</th>\n",
              "      <th>%Deliverble</th>\n",
              "    </tr>\n",
              "    <tr>\n",
              "      <th>Date</th>\n",
              "      <th></th>\n",
              "      <th></th>\n",
              "      <th></th>\n",
              "      <th></th>\n",
              "      <th></th>\n",
              "      <th></th>\n",
              "      <th></th>\n",
              "      <th></th>\n",
              "      <th></th>\n",
              "      <th></th>\n",
              "      <th></th>\n",
              "      <th></th>\n",
              "      <th></th>\n",
              "      <th></th>\n",
              "    </tr>\n",
              "  </thead>\n",
              "  <tbody>\n",
              "    <tr>\n",
              "      <th>2000-01-03</th>\n",
              "      <td>SBIN</td>\n",
              "      <td>EQ</td>\n",
              "      <td>225.60</td>\n",
              "      <td>236.00</td>\n",
              "      <td>243.65</td>\n",
              "      <td>234.25</td>\n",
              "      <td>243.65</td>\n",
              "      <td>243.65</td>\n",
              "      <td>240.83</td>\n",
              "      <td>2373228</td>\n",
              "      <td>5.715338e+13</td>\n",
              "      <td>NaN</td>\n",
              "      <td>NaN</td>\n",
              "      <td>NaN</td>\n",
              "    </tr>\n",
              "    <tr>\n",
              "      <th>2000-01-04</th>\n",
              "      <td>SBIN</td>\n",
              "      <td>EQ</td>\n",
              "      <td>243.65</td>\n",
              "      <td>243.65</td>\n",
              "      <td>262.00</td>\n",
              "      <td>238.85</td>\n",
              "      <td>258.00</td>\n",
              "      <td>259.10</td>\n",
              "      <td>251.46</td>\n",
              "      <td>4495741</td>\n",
              "      <td>1.130506e+14</td>\n",
              "      <td>NaN</td>\n",
              "      <td>NaN</td>\n",
              "      <td>NaN</td>\n",
              "    </tr>\n",
              "    <tr>\n",
              "      <th>2000-01-05</th>\n",
              "      <td>SBIN</td>\n",
              "      <td>EQ</td>\n",
              "      <td>259.10</td>\n",
              "      <td>249.00</td>\n",
              "      <td>264.70</td>\n",
              "      <td>245.00</td>\n",
              "      <td>249.05</td>\n",
              "      <td>248.45</td>\n",
              "      <td>252.35</td>\n",
              "      <td>3434058</td>\n",
              "      <td>8.666008e+13</td>\n",
              "      <td>NaN</td>\n",
              "      <td>NaN</td>\n",
              "      <td>NaN</td>\n",
              "    </tr>\n",
              "    <tr>\n",
              "      <th>2000-01-06</th>\n",
              "      <td>SBIN</td>\n",
              "      <td>EQ</td>\n",
              "      <td>248.45</td>\n",
              "      <td>252.00</td>\n",
              "      <td>268.00</td>\n",
              "      <td>252.00</td>\n",
              "      <td>260.50</td>\n",
              "      <td>261.00</td>\n",
              "      <td>262.18</td>\n",
              "      <td>6658801</td>\n",
              "      <td>1.745817e+14</td>\n",
              "      <td>NaN</td>\n",
              "      <td>NaN</td>\n",
              "      <td>NaN</td>\n",
              "    </tr>\n",
              "    <tr>\n",
              "      <th>2000-01-07</th>\n",
              "      <td>SBIN</td>\n",
              "      <td>EQ</td>\n",
              "      <td>261.00</td>\n",
              "      <td>261.50</td>\n",
              "      <td>279.90</td>\n",
              "      <td>255.00</td>\n",
              "      <td>279.00</td>\n",
              "      <td>273.30</td>\n",
              "      <td>269.02</td>\n",
              "      <td>7873985</td>\n",
              "      <td>2.118287e+14</td>\n",
              "      <td>NaN</td>\n",
              "      <td>NaN</td>\n",
              "      <td>NaN</td>\n",
              "    </tr>\n",
              "  </tbody>\n",
              "</table>\n",
              "</div>"
            ],
            "text/plain": [
              "           Symbol Series  Prev Close  ...  Trades  Deliverable Volume  %Deliverble\n",
              "Date                                  ...                                         \n",
              "2000-01-03   SBIN     EQ      225.60  ...     NaN                 NaN          NaN\n",
              "2000-01-04   SBIN     EQ      243.65  ...     NaN                 NaN          NaN\n",
              "2000-01-05   SBIN     EQ      259.10  ...     NaN                 NaN          NaN\n",
              "2000-01-06   SBIN     EQ      248.45  ...     NaN                 NaN          NaN\n",
              "2000-01-07   SBIN     EQ      261.00  ...     NaN                 NaN          NaN\n",
              "\n",
              "[5 rows x 14 columns]"
            ]
          },
          "metadata": {
            "tags": []
          },
          "execution_count": 15
        }
      ]
    },
    {
      "cell_type": "code",
      "metadata": {
        "colab": {
          "base_uri": "https://localhost:8080/",
          "height": 517
        },
        "id": "GwpyvYA2eJWo",
        "outputId": "e2d794d5-5e29-4dde-f741-8b58f499ff61"
      },
      "source": [
        "dabl.detect_types(SBIN_df)"
      ],
      "execution_count": 16,
      "outputs": [
        {
          "output_type": "stream",
          "text": [
            "/usr/local/lib/python3.6/dist-packages/dabl/preprocessing.py:352: UserWarning: Discarding near-constant features: ['Symbol', 'Series']\n",
            "  near_constant.index[near_constant].tolist()))\n"
          ],
          "name": "stderr"
        },
        {
          "output_type": "execute_result",
          "data": {
            "text/html": [
              "<div>\n",
              "<style scoped>\n",
              "    .dataframe tbody tr th:only-of-type {\n",
              "        vertical-align: middle;\n",
              "    }\n",
              "\n",
              "    .dataframe tbody tr th {\n",
              "        vertical-align: top;\n",
              "    }\n",
              "\n",
              "    .dataframe thead th {\n",
              "        text-align: right;\n",
              "    }\n",
              "</style>\n",
              "<table border=\"1\" class=\"dataframe\">\n",
              "  <thead>\n",
              "    <tr style=\"text-align: right;\">\n",
              "      <th></th>\n",
              "      <th>continuous</th>\n",
              "      <th>dirty_float</th>\n",
              "      <th>low_card_int</th>\n",
              "      <th>categorical</th>\n",
              "      <th>date</th>\n",
              "      <th>free_string</th>\n",
              "      <th>useless</th>\n",
              "    </tr>\n",
              "  </thead>\n",
              "  <tbody>\n",
              "    <tr>\n",
              "      <th>Symbol</th>\n",
              "      <td>False</td>\n",
              "      <td>False</td>\n",
              "      <td>False</td>\n",
              "      <td>False</td>\n",
              "      <td>False</td>\n",
              "      <td>False</td>\n",
              "      <td>True</td>\n",
              "    </tr>\n",
              "    <tr>\n",
              "      <th>Series</th>\n",
              "      <td>False</td>\n",
              "      <td>False</td>\n",
              "      <td>False</td>\n",
              "      <td>False</td>\n",
              "      <td>False</td>\n",
              "      <td>False</td>\n",
              "      <td>True</td>\n",
              "    </tr>\n",
              "    <tr>\n",
              "      <th>Prev Close</th>\n",
              "      <td>True</td>\n",
              "      <td>False</td>\n",
              "      <td>False</td>\n",
              "      <td>False</td>\n",
              "      <td>False</td>\n",
              "      <td>False</td>\n",
              "      <td>False</td>\n",
              "    </tr>\n",
              "    <tr>\n",
              "      <th>Open</th>\n",
              "      <td>True</td>\n",
              "      <td>False</td>\n",
              "      <td>False</td>\n",
              "      <td>False</td>\n",
              "      <td>False</td>\n",
              "      <td>False</td>\n",
              "      <td>False</td>\n",
              "    </tr>\n",
              "    <tr>\n",
              "      <th>High</th>\n",
              "      <td>True</td>\n",
              "      <td>False</td>\n",
              "      <td>False</td>\n",
              "      <td>False</td>\n",
              "      <td>False</td>\n",
              "      <td>False</td>\n",
              "      <td>False</td>\n",
              "    </tr>\n",
              "    <tr>\n",
              "      <th>Low</th>\n",
              "      <td>True</td>\n",
              "      <td>False</td>\n",
              "      <td>False</td>\n",
              "      <td>False</td>\n",
              "      <td>False</td>\n",
              "      <td>False</td>\n",
              "      <td>False</td>\n",
              "    </tr>\n",
              "    <tr>\n",
              "      <th>Last</th>\n",
              "      <td>True</td>\n",
              "      <td>False</td>\n",
              "      <td>False</td>\n",
              "      <td>False</td>\n",
              "      <td>False</td>\n",
              "      <td>False</td>\n",
              "      <td>False</td>\n",
              "    </tr>\n",
              "    <tr>\n",
              "      <th>Close</th>\n",
              "      <td>True</td>\n",
              "      <td>False</td>\n",
              "      <td>False</td>\n",
              "      <td>False</td>\n",
              "      <td>False</td>\n",
              "      <td>False</td>\n",
              "      <td>False</td>\n",
              "    </tr>\n",
              "    <tr>\n",
              "      <th>VWAP</th>\n",
              "      <td>True</td>\n",
              "      <td>False</td>\n",
              "      <td>False</td>\n",
              "      <td>False</td>\n",
              "      <td>False</td>\n",
              "      <td>False</td>\n",
              "      <td>False</td>\n",
              "    </tr>\n",
              "    <tr>\n",
              "      <th>Volume</th>\n",
              "      <td>True</td>\n",
              "      <td>False</td>\n",
              "      <td>False</td>\n",
              "      <td>False</td>\n",
              "      <td>False</td>\n",
              "      <td>False</td>\n",
              "      <td>False</td>\n",
              "    </tr>\n",
              "    <tr>\n",
              "      <th>Turnover</th>\n",
              "      <td>True</td>\n",
              "      <td>False</td>\n",
              "      <td>False</td>\n",
              "      <td>False</td>\n",
              "      <td>False</td>\n",
              "      <td>False</td>\n",
              "      <td>False</td>\n",
              "    </tr>\n",
              "    <tr>\n",
              "      <th>Trades</th>\n",
              "      <td>True</td>\n",
              "      <td>False</td>\n",
              "      <td>False</td>\n",
              "      <td>False</td>\n",
              "      <td>False</td>\n",
              "      <td>False</td>\n",
              "      <td>False</td>\n",
              "    </tr>\n",
              "    <tr>\n",
              "      <th>Deliverable Volume</th>\n",
              "      <td>True</td>\n",
              "      <td>False</td>\n",
              "      <td>False</td>\n",
              "      <td>False</td>\n",
              "      <td>False</td>\n",
              "      <td>False</td>\n",
              "      <td>False</td>\n",
              "    </tr>\n",
              "    <tr>\n",
              "      <th>%Deliverble</th>\n",
              "      <td>True</td>\n",
              "      <td>False</td>\n",
              "      <td>False</td>\n",
              "      <td>False</td>\n",
              "      <td>False</td>\n",
              "      <td>False</td>\n",
              "      <td>False</td>\n",
              "    </tr>\n",
              "  </tbody>\n",
              "</table>\n",
              "</div>"
            ],
            "text/plain": [
              "                    continuous  dirty_float  ...  free_string  useless\n",
              "Symbol                   False        False  ...        False     True\n",
              "Series                   False        False  ...        False     True\n",
              "Prev Close                True        False  ...        False    False\n",
              "Open                      True        False  ...        False    False\n",
              "High                      True        False  ...        False    False\n",
              "Low                       True        False  ...        False    False\n",
              "Last                      True        False  ...        False    False\n",
              "Close                     True        False  ...        False    False\n",
              "VWAP                      True        False  ...        False    False\n",
              "Volume                    True        False  ...        False    False\n",
              "Turnover                  True        False  ...        False    False\n",
              "Trades                    True        False  ...        False    False\n",
              "Deliverable Volume        True        False  ...        False    False\n",
              "%Deliverble               True        False  ...        False    False\n",
              "\n",
              "[14 rows x 7 columns]"
            ]
          },
          "metadata": {
            "tags": []
          },
          "execution_count": 16
        }
      ]
    },
    {
      "cell_type": "code",
      "metadata": {
        "colab": {
          "base_uri": "https://localhost:8080/"
        },
        "id": "hctS4gyVdoWN",
        "outputId": "0b8eb749-2495-46cf-9c5a-7b4351da5dee"
      },
      "source": [
        "SBIN_df.shape"
      ],
      "execution_count": 17,
      "outputs": [
        {
          "output_type": "execute_result",
          "data": {
            "text/plain": [
              "(5184, 14)"
            ]
          },
          "metadata": {
            "tags": []
          },
          "execution_count": 17
        }
      ]
    },
    {
      "cell_type": "code",
      "metadata": {
        "colab": {
          "base_uri": "https://localhost:8080/"
        },
        "id": "j_ljm2y-F5Fq",
        "outputId": "bbe0631a-79b3-4a30-cbbb-455e64f79385"
      },
      "source": [
        "SBIN_clean_df = dabl.clean(SBIN_df, verbose=1)"
      ],
      "execution_count": 18,
      "outputs": [
        {
          "output_type": "stream",
          "text": [
            "Detected feature types:\n",
            "11 float, 1 int, 2 object, 0 date, 0 other\n",
            "Interpreted as:\n",
            "continuous      12\n",
            "dirty_float      0\n",
            "low_card_int     0\n",
            "categorical      0\n",
            "date             0\n",
            "free_string      0\n",
            "useless          2\n",
            "dtype: int64\n"
          ],
          "name": "stdout"
        },
        {
          "output_type": "stream",
          "text": [
            "/usr/local/lib/python3.6/dist-packages/dabl/preprocessing.py:352: UserWarning: Discarding near-constant features: ['Symbol', 'Series']\n",
            "  near_constant.index[near_constant].tolist()))\n"
          ],
          "name": "stderr"
        }
      ]
    },
    {
      "cell_type": "code",
      "metadata": {
        "id": "cIJSux50GTPX",
        "colab": {
          "base_uri": "https://localhost:8080/"
        },
        "outputId": "316d3236-b610-49b1-c314-d16835effd29"
      },
      "source": [
        "SBIN_clean_df.shape"
      ],
      "execution_count": 19,
      "outputs": [
        {
          "output_type": "execute_result",
          "data": {
            "text/plain": [
              "(5184, 12)"
            ]
          },
          "metadata": {
            "tags": []
          },
          "execution_count": 19
        }
      ]
    },
    {
      "cell_type": "code",
      "metadata": {
        "colab": {
          "base_uri": "https://localhost:8080/",
          "height": 421
        },
        "id": "2l9gzpt2d0sw",
        "outputId": "8cce94ac-c8e5-42c5-e3fe-72b7000cafee"
      },
      "source": [
        "dabl.detect_types(SBIN_clean_df)"
      ],
      "execution_count": 20,
      "outputs": [
        {
          "output_type": "execute_result",
          "data": {
            "text/html": [
              "<div>\n",
              "<style scoped>\n",
              "    .dataframe tbody tr th:only-of-type {\n",
              "        vertical-align: middle;\n",
              "    }\n",
              "\n",
              "    .dataframe tbody tr th {\n",
              "        vertical-align: top;\n",
              "    }\n",
              "\n",
              "    .dataframe thead th {\n",
              "        text-align: right;\n",
              "    }\n",
              "</style>\n",
              "<table border=\"1\" class=\"dataframe\">\n",
              "  <thead>\n",
              "    <tr style=\"text-align: right;\">\n",
              "      <th></th>\n",
              "      <th>continuous</th>\n",
              "      <th>dirty_float</th>\n",
              "      <th>low_card_int</th>\n",
              "      <th>categorical</th>\n",
              "      <th>date</th>\n",
              "      <th>free_string</th>\n",
              "      <th>useless</th>\n",
              "    </tr>\n",
              "  </thead>\n",
              "  <tbody>\n",
              "    <tr>\n",
              "      <th>Prev Close</th>\n",
              "      <td>True</td>\n",
              "      <td>False</td>\n",
              "      <td>False</td>\n",
              "      <td>False</td>\n",
              "      <td>False</td>\n",
              "      <td>False</td>\n",
              "      <td>False</td>\n",
              "    </tr>\n",
              "    <tr>\n",
              "      <th>Open</th>\n",
              "      <td>True</td>\n",
              "      <td>False</td>\n",
              "      <td>False</td>\n",
              "      <td>False</td>\n",
              "      <td>False</td>\n",
              "      <td>False</td>\n",
              "      <td>False</td>\n",
              "    </tr>\n",
              "    <tr>\n",
              "      <th>High</th>\n",
              "      <td>True</td>\n",
              "      <td>False</td>\n",
              "      <td>False</td>\n",
              "      <td>False</td>\n",
              "      <td>False</td>\n",
              "      <td>False</td>\n",
              "      <td>False</td>\n",
              "    </tr>\n",
              "    <tr>\n",
              "      <th>Low</th>\n",
              "      <td>True</td>\n",
              "      <td>False</td>\n",
              "      <td>False</td>\n",
              "      <td>False</td>\n",
              "      <td>False</td>\n",
              "      <td>False</td>\n",
              "      <td>False</td>\n",
              "    </tr>\n",
              "    <tr>\n",
              "      <th>Last</th>\n",
              "      <td>True</td>\n",
              "      <td>False</td>\n",
              "      <td>False</td>\n",
              "      <td>False</td>\n",
              "      <td>False</td>\n",
              "      <td>False</td>\n",
              "      <td>False</td>\n",
              "    </tr>\n",
              "    <tr>\n",
              "      <th>Close</th>\n",
              "      <td>True</td>\n",
              "      <td>False</td>\n",
              "      <td>False</td>\n",
              "      <td>False</td>\n",
              "      <td>False</td>\n",
              "      <td>False</td>\n",
              "      <td>False</td>\n",
              "    </tr>\n",
              "    <tr>\n",
              "      <th>VWAP</th>\n",
              "      <td>True</td>\n",
              "      <td>False</td>\n",
              "      <td>False</td>\n",
              "      <td>False</td>\n",
              "      <td>False</td>\n",
              "      <td>False</td>\n",
              "      <td>False</td>\n",
              "    </tr>\n",
              "    <tr>\n",
              "      <th>Volume</th>\n",
              "      <td>True</td>\n",
              "      <td>False</td>\n",
              "      <td>False</td>\n",
              "      <td>False</td>\n",
              "      <td>False</td>\n",
              "      <td>False</td>\n",
              "      <td>False</td>\n",
              "    </tr>\n",
              "    <tr>\n",
              "      <th>Turnover</th>\n",
              "      <td>True</td>\n",
              "      <td>False</td>\n",
              "      <td>False</td>\n",
              "      <td>False</td>\n",
              "      <td>False</td>\n",
              "      <td>False</td>\n",
              "      <td>False</td>\n",
              "    </tr>\n",
              "    <tr>\n",
              "      <th>Trades</th>\n",
              "      <td>True</td>\n",
              "      <td>False</td>\n",
              "      <td>False</td>\n",
              "      <td>False</td>\n",
              "      <td>False</td>\n",
              "      <td>False</td>\n",
              "      <td>False</td>\n",
              "    </tr>\n",
              "    <tr>\n",
              "      <th>Deliverable Volume</th>\n",
              "      <td>True</td>\n",
              "      <td>False</td>\n",
              "      <td>False</td>\n",
              "      <td>False</td>\n",
              "      <td>False</td>\n",
              "      <td>False</td>\n",
              "      <td>False</td>\n",
              "    </tr>\n",
              "    <tr>\n",
              "      <th>%Deliverble</th>\n",
              "      <td>True</td>\n",
              "      <td>False</td>\n",
              "      <td>False</td>\n",
              "      <td>False</td>\n",
              "      <td>False</td>\n",
              "      <td>False</td>\n",
              "      <td>False</td>\n",
              "    </tr>\n",
              "  </tbody>\n",
              "</table>\n",
              "</div>"
            ],
            "text/plain": [
              "                    continuous  dirty_float  ...  free_string  useless\n",
              "Prev Close                True        False  ...        False    False\n",
              "Open                      True        False  ...        False    False\n",
              "High                      True        False  ...        False    False\n",
              "Low                       True        False  ...        False    False\n",
              "Last                      True        False  ...        False    False\n",
              "Close                     True        False  ...        False    False\n",
              "VWAP                      True        False  ...        False    False\n",
              "Volume                    True        False  ...        False    False\n",
              "Turnover                  True        False  ...        False    False\n",
              "Trades                    True        False  ...        False    False\n",
              "Deliverable Volume        True        False  ...        False    False\n",
              "%Deliverble               True        False  ...        False    False\n",
              "\n",
              "[12 rows x 7 columns]"
            ]
          },
          "metadata": {
            "tags": []
          },
          "execution_count": 20
        }
      ]
    },
    {
      "cell_type": "code",
      "metadata": {
        "colab": {
          "base_uri": "https://localhost:8080/",
          "height": 142
        },
        "id": "0hfsA0qmd9o7",
        "outputId": "3511fcf3-9a9f-4851-9a69-c55ff5cd082a"
      },
      "source": [
        "SBIN_clean_df.head(2)"
      ],
      "execution_count": 21,
      "outputs": [
        {
          "output_type": "execute_result",
          "data": {
            "text/html": [
              "<div>\n",
              "<style scoped>\n",
              "    .dataframe tbody tr th:only-of-type {\n",
              "        vertical-align: middle;\n",
              "    }\n",
              "\n",
              "    .dataframe tbody tr th {\n",
              "        vertical-align: top;\n",
              "    }\n",
              "\n",
              "    .dataframe thead th {\n",
              "        text-align: right;\n",
              "    }\n",
              "</style>\n",
              "<table border=\"1\" class=\"dataframe\">\n",
              "  <thead>\n",
              "    <tr style=\"text-align: right;\">\n",
              "      <th></th>\n",
              "      <th>Prev Close</th>\n",
              "      <th>Open</th>\n",
              "      <th>High</th>\n",
              "      <th>Low</th>\n",
              "      <th>Last</th>\n",
              "      <th>Close</th>\n",
              "      <th>VWAP</th>\n",
              "      <th>Volume</th>\n",
              "      <th>Turnover</th>\n",
              "      <th>Trades</th>\n",
              "      <th>Deliverable Volume</th>\n",
              "      <th>%Deliverble</th>\n",
              "    </tr>\n",
              "    <tr>\n",
              "      <th>Date</th>\n",
              "      <th></th>\n",
              "      <th></th>\n",
              "      <th></th>\n",
              "      <th></th>\n",
              "      <th></th>\n",
              "      <th></th>\n",
              "      <th></th>\n",
              "      <th></th>\n",
              "      <th></th>\n",
              "      <th></th>\n",
              "      <th></th>\n",
              "      <th></th>\n",
              "    </tr>\n",
              "  </thead>\n",
              "  <tbody>\n",
              "    <tr>\n",
              "      <th>2000-01-03</th>\n",
              "      <td>225.60</td>\n",
              "      <td>236.00</td>\n",
              "      <td>243.65</td>\n",
              "      <td>234.25</td>\n",
              "      <td>243.65</td>\n",
              "      <td>243.65</td>\n",
              "      <td>240.83</td>\n",
              "      <td>2373228</td>\n",
              "      <td>5.715338e+13</td>\n",
              "      <td>NaN</td>\n",
              "      <td>NaN</td>\n",
              "      <td>NaN</td>\n",
              "    </tr>\n",
              "    <tr>\n",
              "      <th>2000-01-04</th>\n",
              "      <td>243.65</td>\n",
              "      <td>243.65</td>\n",
              "      <td>262.00</td>\n",
              "      <td>238.85</td>\n",
              "      <td>258.00</td>\n",
              "      <td>259.10</td>\n",
              "      <td>251.46</td>\n",
              "      <td>4495741</td>\n",
              "      <td>1.130506e+14</td>\n",
              "      <td>NaN</td>\n",
              "      <td>NaN</td>\n",
              "      <td>NaN</td>\n",
              "    </tr>\n",
              "  </tbody>\n",
              "</table>\n",
              "</div>"
            ],
            "text/plain": [
              "            Prev Close    Open    High  ...  Trades  Deliverable Volume  %Deliverble\n",
              "Date                                    ...                                         \n",
              "2000-01-03      225.60  236.00  243.65  ...     NaN                 NaN          NaN\n",
              "2000-01-04      243.65  243.65  262.00  ...     NaN                 NaN          NaN\n",
              "\n",
              "[2 rows x 12 columns]"
            ]
          },
          "metadata": {
            "tags": []
          },
          "execution_count": 21
        }
      ]
    },
    {
      "cell_type": "code",
      "metadata": {
        "id": "UQbuzGXagBX4"
      },
      "source": [
        "#SBIN_clean_df=SBIN_clean_df.set_index('Date')"
      ],
      "execution_count": 22,
      "outputs": []
    },
    {
      "cell_type": "code",
      "metadata": {
        "colab": {
          "base_uri": "https://localhost:8080/",
          "height": 142
        },
        "id": "ldUQ740ihOC0",
        "outputId": "f2bdebf7-9eee-4cf7-aed1-ceef86752f59"
      },
      "source": [
        "SBIN_clean_df.head(2)"
      ],
      "execution_count": 23,
      "outputs": [
        {
          "output_type": "execute_result",
          "data": {
            "text/html": [
              "<div>\n",
              "<style scoped>\n",
              "    .dataframe tbody tr th:only-of-type {\n",
              "        vertical-align: middle;\n",
              "    }\n",
              "\n",
              "    .dataframe tbody tr th {\n",
              "        vertical-align: top;\n",
              "    }\n",
              "\n",
              "    .dataframe thead th {\n",
              "        text-align: right;\n",
              "    }\n",
              "</style>\n",
              "<table border=\"1\" class=\"dataframe\">\n",
              "  <thead>\n",
              "    <tr style=\"text-align: right;\">\n",
              "      <th></th>\n",
              "      <th>Prev Close</th>\n",
              "      <th>Open</th>\n",
              "      <th>High</th>\n",
              "      <th>Low</th>\n",
              "      <th>Last</th>\n",
              "      <th>Close</th>\n",
              "      <th>VWAP</th>\n",
              "      <th>Volume</th>\n",
              "      <th>Turnover</th>\n",
              "      <th>Trades</th>\n",
              "      <th>Deliverable Volume</th>\n",
              "      <th>%Deliverble</th>\n",
              "    </tr>\n",
              "    <tr>\n",
              "      <th>Date</th>\n",
              "      <th></th>\n",
              "      <th></th>\n",
              "      <th></th>\n",
              "      <th></th>\n",
              "      <th></th>\n",
              "      <th></th>\n",
              "      <th></th>\n",
              "      <th></th>\n",
              "      <th></th>\n",
              "      <th></th>\n",
              "      <th></th>\n",
              "      <th></th>\n",
              "    </tr>\n",
              "  </thead>\n",
              "  <tbody>\n",
              "    <tr>\n",
              "      <th>2000-01-03</th>\n",
              "      <td>225.60</td>\n",
              "      <td>236.00</td>\n",
              "      <td>243.65</td>\n",
              "      <td>234.25</td>\n",
              "      <td>243.65</td>\n",
              "      <td>243.65</td>\n",
              "      <td>240.83</td>\n",
              "      <td>2373228</td>\n",
              "      <td>5.715338e+13</td>\n",
              "      <td>NaN</td>\n",
              "      <td>NaN</td>\n",
              "      <td>NaN</td>\n",
              "    </tr>\n",
              "    <tr>\n",
              "      <th>2000-01-04</th>\n",
              "      <td>243.65</td>\n",
              "      <td>243.65</td>\n",
              "      <td>262.00</td>\n",
              "      <td>238.85</td>\n",
              "      <td>258.00</td>\n",
              "      <td>259.10</td>\n",
              "      <td>251.46</td>\n",
              "      <td>4495741</td>\n",
              "      <td>1.130506e+14</td>\n",
              "      <td>NaN</td>\n",
              "      <td>NaN</td>\n",
              "      <td>NaN</td>\n",
              "    </tr>\n",
              "  </tbody>\n",
              "</table>\n",
              "</div>"
            ],
            "text/plain": [
              "            Prev Close    Open    High  ...  Trades  Deliverable Volume  %Deliverble\n",
              "Date                                    ...                                         \n",
              "2000-01-03      225.60  236.00  243.65  ...     NaN                 NaN          NaN\n",
              "2000-01-04      243.65  243.65  262.00  ...     NaN                 NaN          NaN\n",
              "\n",
              "[2 rows x 12 columns]"
            ]
          },
          "metadata": {
            "tags": []
          },
          "execution_count": 23
        }
      ]
    },
    {
      "cell_type": "code",
      "metadata": {
        "id": "ZRmHqTAYjiSP"
      },
      "source": [
        "##converting it into datetime "
      ],
      "execution_count": 24,
      "outputs": []
    },
    {
      "cell_type": "code",
      "metadata": {
        "id": "G6hTlmxVhRbW"
      },
      "source": [
        "#SBIN_clean_df.index=pd.to_datetime(SBIN_clean_df.index)\n"
      ],
      "execution_count": 25,
      "outputs": []
    },
    {
      "cell_type": "code",
      "metadata": {
        "colab": {
          "base_uri": "https://localhost:8080/",
          "height": 142
        },
        "id": "4ElBuhoshe6n",
        "outputId": "b1ca2295-e105-40f4-821d-bcabb8ad3e17"
      },
      "source": [
        "SBIN_clean_df.head(2)"
      ],
      "execution_count": 26,
      "outputs": [
        {
          "output_type": "execute_result",
          "data": {
            "text/html": [
              "<div>\n",
              "<style scoped>\n",
              "    .dataframe tbody tr th:only-of-type {\n",
              "        vertical-align: middle;\n",
              "    }\n",
              "\n",
              "    .dataframe tbody tr th {\n",
              "        vertical-align: top;\n",
              "    }\n",
              "\n",
              "    .dataframe thead th {\n",
              "        text-align: right;\n",
              "    }\n",
              "</style>\n",
              "<table border=\"1\" class=\"dataframe\">\n",
              "  <thead>\n",
              "    <tr style=\"text-align: right;\">\n",
              "      <th></th>\n",
              "      <th>Prev Close</th>\n",
              "      <th>Open</th>\n",
              "      <th>High</th>\n",
              "      <th>Low</th>\n",
              "      <th>Last</th>\n",
              "      <th>Close</th>\n",
              "      <th>VWAP</th>\n",
              "      <th>Volume</th>\n",
              "      <th>Turnover</th>\n",
              "      <th>Trades</th>\n",
              "      <th>Deliverable Volume</th>\n",
              "      <th>%Deliverble</th>\n",
              "    </tr>\n",
              "    <tr>\n",
              "      <th>Date</th>\n",
              "      <th></th>\n",
              "      <th></th>\n",
              "      <th></th>\n",
              "      <th></th>\n",
              "      <th></th>\n",
              "      <th></th>\n",
              "      <th></th>\n",
              "      <th></th>\n",
              "      <th></th>\n",
              "      <th></th>\n",
              "      <th></th>\n",
              "      <th></th>\n",
              "    </tr>\n",
              "  </thead>\n",
              "  <tbody>\n",
              "    <tr>\n",
              "      <th>2000-01-03</th>\n",
              "      <td>225.60</td>\n",
              "      <td>236.00</td>\n",
              "      <td>243.65</td>\n",
              "      <td>234.25</td>\n",
              "      <td>243.65</td>\n",
              "      <td>243.65</td>\n",
              "      <td>240.83</td>\n",
              "      <td>2373228</td>\n",
              "      <td>5.715338e+13</td>\n",
              "      <td>NaN</td>\n",
              "      <td>NaN</td>\n",
              "      <td>NaN</td>\n",
              "    </tr>\n",
              "    <tr>\n",
              "      <th>2000-01-04</th>\n",
              "      <td>243.65</td>\n",
              "      <td>243.65</td>\n",
              "      <td>262.00</td>\n",
              "      <td>238.85</td>\n",
              "      <td>258.00</td>\n",
              "      <td>259.10</td>\n",
              "      <td>251.46</td>\n",
              "      <td>4495741</td>\n",
              "      <td>1.130506e+14</td>\n",
              "      <td>NaN</td>\n",
              "      <td>NaN</td>\n",
              "      <td>NaN</td>\n",
              "    </tr>\n",
              "  </tbody>\n",
              "</table>\n",
              "</div>"
            ],
            "text/plain": [
              "            Prev Close    Open    High  ...  Trades  Deliverable Volume  %Deliverble\n",
              "Date                                    ...                                         \n",
              "2000-01-03      225.60  236.00  243.65  ...     NaN                 NaN          NaN\n",
              "2000-01-04      243.65  243.65  262.00  ...     NaN                 NaN          NaN\n",
              "\n",
              "[2 rows x 12 columns]"
            ]
          },
          "metadata": {
            "tags": []
          },
          "execution_count": 26
        }
      ]
    },
    {
      "cell_type": "code",
      "metadata": {
        "id": "2b5oe-ERjn4c"
      },
      "source": [
        "## Running statistical test to check if data is stationary or not ,\n",
        "## Reason for this is Arima model better  only if data is stationary"
      ],
      "execution_count": 27,
      "outputs": []
    },
    {
      "cell_type": "code",
      "metadata": {
        "id": "-m6IdeeZkFP0"
      },
      "source": [
        "from statsmodels.tsa.stattools import adfuller"
      ],
      "execution_count": 28,
      "outputs": []
    },
    {
      "cell_type": "code",
      "metadata": {
        "id": "qovAsjq-kSTb"
      },
      "source": [
        "def myAdaTest(df):\n",
        "  df_op=adfuller(df,maxlag=None, regression='c', autolag='AIC', store=False, regresults=False)\n",
        "  print('ADF:',df_op[0])\n",
        "  print('p-value:',df_op[1])\n",
        "  print('no-of-lag:',df_op[2])\n",
        "  print(\"Num Of Observations Used For ADF Regression:\",      df_op[3])\n",
        "  print(\"Critical Values :\")\n",
        "  for key, val in df_op[4].items():\n",
        "     print(\"\\t\",key, \": \", val)\n"
      ],
      "execution_count": 29,
      "outputs": []
    },
    {
      "cell_type": "code",
      "metadata": {
        "id": "KnEoMHxsn7-I"
      },
      "source": [
        "## if p-value is less than 0.05 means data is stationary and we failed to reject null hypothesis , hence we can use it in arima model"
      ],
      "execution_count": 30,
      "outputs": []
    },
    {
      "cell_type": "code",
      "metadata": {
        "colab": {
          "base_uri": "https://localhost:8080/"
        },
        "id": "Rz_BRQXSmgGJ",
        "outputId": "823afa03-c4aa-49ad-e54f-432441c9bdb8"
      },
      "source": [
        "for i in SBIN_clean_df[['Prev Close'\t,'Open'\t,'High'\t,'Low'\t,'Last'\t,'Close'\t,'VWAP'\t,'Volume'\t,'Turnover']].columns:\n",
        "  print('evaluating for ',i)\n",
        "  print('/n')\n",
        "  myAdaTest(SBIN_clean_df[i])"
      ],
      "execution_count": 31,
      "outputs": [
        {
          "output_type": "stream",
          "text": [
            "evaluating for  Prev Close\n",
            "/n\n",
            "ADF: -1.9184674068391174\n",
            "p-value: 0.32342395072505176\n",
            "no-of-lag: 3\n",
            "Num Of Observations Used For ADF Regression: 5180\n",
            "Critical Values :\n",
            "\t 1% :  -3.431613039285884\n",
            "\t 5% :  -2.862098131055356\n",
            "\t 10% :  -2.5670670931038595\n",
            "evaluating for  Open\n",
            "/n\n",
            "ADF: -1.8407612836030316\n",
            "p-value: 0.36042073939731134\n",
            "no-of-lag: 5\n",
            "Num Of Observations Used For ADF Regression: 5178\n",
            "Critical Values :\n",
            "\t 1% :  -3.431613527376366\n",
            "\t 5% :  -2.8620983466944008\n",
            "\t 10% :  -2.567067207896378\n",
            "evaluating for  High\n",
            "/n\n",
            "ADF: -1.8929298790689941\n",
            "p-value: 0.3353943937535781\n",
            "no-of-lag: 3\n",
            "Num Of Observations Used For ADF Regression: 5180\n",
            "Critical Values :\n",
            "\t 1% :  -3.431613039285884\n",
            "\t 5% :  -2.862098131055356\n",
            "\t 10% :  -2.5670670931038595\n",
            "evaluating for  Low\n",
            "/n\n",
            "ADF: -1.9588105868305785\n",
            "p-value: 0.30491995005788186\n",
            "no-of-lag: 2\n",
            "Num Of Observations Used For ADF Regression: 5181\n",
            "Critical Values :\n",
            "\t 1% :  -3.4316127953820246\n",
            "\t 5% :  -2.862098023298283\n",
            "\t 10% :  -2.5670670357408465\n",
            "evaluating for  Last\n",
            "/n\n",
            "ADF: -1.9212702021169608\n",
            "p-value: 0.3221220388666995\n",
            "no-of-lag: 3\n",
            "Num Of Observations Used For ADF Regression: 5180\n",
            "Critical Values :\n",
            "\t 1% :  -3.431613039285884\n",
            "\t 5% :  -2.862098131055356\n",
            "\t 10% :  -2.5670670931038595\n",
            "evaluating for  Close\n",
            "/n\n",
            "ADF: -1.9149668294712736\n",
            "p-value: 0.32505332935808384\n",
            "no-of-lag: 3\n",
            "Num Of Observations Used For ADF Regression: 5180\n",
            "Critical Values :\n",
            "\t 1% :  -3.431613039285884\n",
            "\t 5% :  -2.862098131055356\n",
            "\t 10% :  -2.5670670931038595\n",
            "evaluating for  VWAP\n",
            "/n\n",
            "ADF: -1.9031649843012448\n",
            "p-value: 0.3305736702372175\n",
            "no-of-lag: 3\n",
            "Num Of Observations Used For ADF Regression: 5180\n",
            "Critical Values :\n",
            "\t 1% :  -3.431613039285884\n",
            "\t 5% :  -2.862098131055356\n",
            "\t 10% :  -2.5670670931038595\n",
            "evaluating for  Volume\n",
            "/n\n",
            "ADF: -2.186471312565158\n",
            "p-value: 0.21119217890058123\n",
            "no-of-lag: 33\n",
            "Num Of Observations Used For ADF Regression: 5150\n",
            "Critical Values :\n",
            "\t 1% :  -3.431620400468428\n",
            "\t 5% :  -2.8621013832321522\n",
            "\t 10% :  -2.5670688243566784\n",
            "evaluating for  Turnover\n",
            "/n\n",
            "ADF: -3.5307094217710158\n",
            "p-value: 0.007232561472234405\n",
            "no-of-lag: 33\n",
            "Num Of Observations Used For ADF Regression: 5150\n",
            "Critical Values :\n",
            "\t 1% :  -3.431620400468428\n",
            "\t 5% :  -2.8621013832321522\n",
            "\t 10% :  -2.5670688243566784\n"
          ],
          "name": "stdout"
        }
      ]
    },
    {
      "cell_type": "code",
      "metadata": {
        "id": "o_d-UNw6loxi"
      },
      "source": [
        "# from above we can see non of the feature is stationary from p-value ## Adf is negative hence it is more likely to be stationary\n",
        "## to make data stationary we use diff method and after that drop na for top"
      ],
      "execution_count": 32,
      "outputs": []
    },
    {
      "cell_type": "code",
      "metadata": {
        "id": "TPzGQbJ3mPOk"
      },
      "source": [
        "\n",
        "\n",
        "\n",
        "for i in SBIN_clean_df[['Prev Close'\t,'Open'\t,'High'\t,'Low'\t,'Last'\t,'Close'\t,'VWAP'\t,'Volume'\t,'Turnover']].columns:\n",
        "  SBIN_clean_df[i+str('_diff')]=SBIN_clean_df[i].diff().dropna()\n",
        "  "
      ],
      "execution_count": 33,
      "outputs": []
    },
    {
      "cell_type": "code",
      "metadata": {
        "colab": {
          "base_uri": "https://localhost:8080/",
          "height": 165
        },
        "id": "7JlN7kcmqps2",
        "outputId": "38f25dda-cda9-4919-9638-d1566d895905"
      },
      "source": [
        "SBIN_clean_df.head(1)"
      ],
      "execution_count": 34,
      "outputs": [
        {
          "output_type": "execute_result",
          "data": {
            "text/html": [
              "<div>\n",
              "<style scoped>\n",
              "    .dataframe tbody tr th:only-of-type {\n",
              "        vertical-align: middle;\n",
              "    }\n",
              "\n",
              "    .dataframe tbody tr th {\n",
              "        vertical-align: top;\n",
              "    }\n",
              "\n",
              "    .dataframe thead th {\n",
              "        text-align: right;\n",
              "    }\n",
              "</style>\n",
              "<table border=\"1\" class=\"dataframe\">\n",
              "  <thead>\n",
              "    <tr style=\"text-align: right;\">\n",
              "      <th></th>\n",
              "      <th>Prev Close</th>\n",
              "      <th>Open</th>\n",
              "      <th>High</th>\n",
              "      <th>Low</th>\n",
              "      <th>Last</th>\n",
              "      <th>Close</th>\n",
              "      <th>VWAP</th>\n",
              "      <th>Volume</th>\n",
              "      <th>Turnover</th>\n",
              "      <th>Trades</th>\n",
              "      <th>Deliverable Volume</th>\n",
              "      <th>%Deliverble</th>\n",
              "      <th>Prev Close_diff</th>\n",
              "      <th>Open_diff</th>\n",
              "      <th>High_diff</th>\n",
              "      <th>Low_diff</th>\n",
              "      <th>Last_diff</th>\n",
              "      <th>Close_diff</th>\n",
              "      <th>VWAP_diff</th>\n",
              "      <th>Volume_diff</th>\n",
              "      <th>Turnover_diff</th>\n",
              "    </tr>\n",
              "    <tr>\n",
              "      <th>Date</th>\n",
              "      <th></th>\n",
              "      <th></th>\n",
              "      <th></th>\n",
              "      <th></th>\n",
              "      <th></th>\n",
              "      <th></th>\n",
              "      <th></th>\n",
              "      <th></th>\n",
              "      <th></th>\n",
              "      <th></th>\n",
              "      <th></th>\n",
              "      <th></th>\n",
              "      <th></th>\n",
              "      <th></th>\n",
              "      <th></th>\n",
              "      <th></th>\n",
              "      <th></th>\n",
              "      <th></th>\n",
              "      <th></th>\n",
              "      <th></th>\n",
              "      <th></th>\n",
              "    </tr>\n",
              "  </thead>\n",
              "  <tbody>\n",
              "    <tr>\n",
              "      <th>2000-01-03</th>\n",
              "      <td>225.6</td>\n",
              "      <td>236.0</td>\n",
              "      <td>243.65</td>\n",
              "      <td>234.25</td>\n",
              "      <td>243.65</td>\n",
              "      <td>243.65</td>\n",
              "      <td>240.83</td>\n",
              "      <td>2373228</td>\n",
              "      <td>5.715338e+13</td>\n",
              "      <td>NaN</td>\n",
              "      <td>NaN</td>\n",
              "      <td>NaN</td>\n",
              "      <td>NaN</td>\n",
              "      <td>NaN</td>\n",
              "      <td>NaN</td>\n",
              "      <td>NaN</td>\n",
              "      <td>NaN</td>\n",
              "      <td>NaN</td>\n",
              "      <td>NaN</td>\n",
              "      <td>NaN</td>\n",
              "      <td>NaN</td>\n",
              "    </tr>\n",
              "  </tbody>\n",
              "</table>\n",
              "</div>"
            ],
            "text/plain": [
              "            Prev Close   Open    High  ...  VWAP_diff  Volume_diff  Turnover_diff\n",
              "Date                                   ...                                       \n",
              "2000-01-03       225.6  236.0  243.65  ...        NaN          NaN            NaN\n",
              "\n",
              "[1 rows x 21 columns]"
            ]
          },
          "metadata": {
            "tags": []
          },
          "execution_count": 34
        }
      ]
    },
    {
      "cell_type": "code",
      "metadata": {
        "id": "gKT_UNLeJ6d3"
      },
      "source": [
        "SBIN_clean_df.drop(['Trades','Deliverable Volume',\t'%Deliverble'],inplace=True,axis=1)"
      ],
      "execution_count": 35,
      "outputs": []
    },
    {
      "cell_type": "code",
      "metadata": {
        "id": "rso5UM8RKWcX"
      },
      "source": [
        "SBIN_clean_df=SBIN_clean_df.dropna()"
      ],
      "execution_count": 36,
      "outputs": []
    },
    {
      "cell_type": "code",
      "metadata": {
        "id": "rNmzllUhL3uG"
      },
      "source": [
        ""
      ],
      "execution_count": 31,
      "outputs": []
    },
    {
      "cell_type": "code",
      "metadata": {
        "colab": {
          "base_uri": "https://localhost:8080/"
        },
        "id": "e7OblKeAK6vY",
        "outputId": "071f4a8a-be7c-4c39-f922-e2a2d80580d0"
      },
      "source": [
        "\n",
        "for i in SBIN_clean_df[['Prev Close_diff'\t,'Open_diff'\t,'High_diff'\t,'Low_diff',\t'Last_diff'\t,'Close_diff',\t'VWAP_diff',\t'Volume_diff'\t,'Turnover_diff']].columns:\n",
        "  print('evaluating for ',i)\n",
        "  print('/n')\n",
        "  myAdaTest(SBIN_clean_df[i])"
      ],
      "execution_count": 37,
      "outputs": [
        {
          "output_type": "stream",
          "text": [
            "evaluating for  Prev Close_diff\n",
            "/n\n",
            "ADF: -43.06581372517176\n",
            "p-value: 0.0\n",
            "no-of-lag: 2\n",
            "Num Of Observations Used For ADF Regression: 5180\n",
            "Critical Values :\n",
            "\t 1% :  -3.431613039285884\n",
            "\t 5% :  -2.862098131055356\n",
            "\t 10% :  -2.5670670931038595\n",
            "evaluating for  Open_diff\n",
            "/n\n",
            "ADF: -34.07825418317747\n",
            "p-value: 0.0\n",
            "no-of-lag: 4\n",
            "Num Of Observations Used For ADF Regression: 5178\n",
            "Critical Values :\n",
            "\t 1% :  -3.431613527376366\n",
            "\t 5% :  -2.8620983466944008\n",
            "\t 10% :  -2.567067207896378\n",
            "evaluating for  High_diff\n",
            "/n\n",
            "ADF: -43.04869926537105\n",
            "p-value: 0.0\n",
            "no-of-lag: 2\n",
            "Num Of Observations Used For ADF Regression: 5180\n",
            "Critical Values :\n",
            "\t 1% :  -3.431613039285884\n",
            "\t 5% :  -2.862098131055356\n",
            "\t 10% :  -2.5670670931038595\n",
            "evaluating for  Low_diff\n",
            "/n\n",
            "ADF: -52.37476427805238\n",
            "p-value: 0.0\n",
            "no-of-lag: 1\n",
            "Num Of Observations Used For ADF Regression: 5181\n",
            "Critical Values :\n",
            "\t 1% :  -3.4316127953820246\n",
            "\t 5% :  -2.862098023298283\n",
            "\t 10% :  -2.5670670357408465\n",
            "evaluating for  Last_diff\n",
            "/n\n",
            "ADF: -43.072257927221955\n",
            "p-value: 0.0\n",
            "no-of-lag: 2\n",
            "Num Of Observations Used For ADF Regression: 5180\n",
            "Critical Values :\n",
            "\t 1% :  -3.431613039285884\n",
            "\t 5% :  -2.862098131055356\n",
            "\t 10% :  -2.5670670931038595\n",
            "evaluating for  Close_diff\n",
            "/n\n",
            "ADF: -43.0670755835742\n",
            "p-value: 0.0\n",
            "no-of-lag: 2\n",
            "Num Of Observations Used For ADF Regression: 5180\n",
            "Critical Values :\n",
            "\t 1% :  -3.431613039285884\n",
            "\t 5% :  -2.862098131055356\n",
            "\t 10% :  -2.5670670931038595\n",
            "evaluating for  VWAP_diff\n",
            "/n\n",
            "ADF: -42.55240956485837\n",
            "p-value: 0.0\n",
            "no-of-lag: 2\n",
            "Num Of Observations Used For ADF Regression: 5180\n",
            "Critical Values :\n",
            "\t 1% :  -3.431613039285884\n",
            "\t 5% :  -2.862098131055356\n",
            "\t 10% :  -2.5670670931038595\n",
            "evaluating for  Volume_diff\n",
            "/n\n",
            "ADF: -18.564892510701338\n",
            "p-value: 2.0855121774898618e-30\n",
            "no-of-lag: 33\n",
            "Num Of Observations Used For ADF Regression: 5149\n",
            "Critical Values :\n",
            "\t 1% :  -3.431620647319205\n",
            "\t 5% :  -2.862101492290899\n",
            "\t 10% :  -2.5670688824126673\n",
            "evaluating for  Turnover_diff\n",
            "/n\n",
            "ADF: -18.772669534275664\n",
            "p-value: 2.0250340234939782e-30\n",
            "no-of-lag: 33\n",
            "Num Of Observations Used For ADF Regression: 5149\n",
            "Critical Values :\n",
            "\t 1% :  -3.431620647319205\n",
            "\t 5% :  -2.862101492290899\n",
            "\t 10% :  -2.5670688824126673\n"
          ],
          "name": "stdout"
        }
      ]
    },
    {
      "cell_type": "code",
      "metadata": {
        "id": "k5yPFjqlLtvO"
      },
      "source": [
        "## hence from above we can see that p_value is less than 0.05 and ADF is further redece giving us confidenece that above data is stationary"
      ],
      "execution_count": 38,
      "outputs": []
    },
    {
      "cell_type": "code",
      "metadata": {
        "colab": {
          "base_uri": "https://localhost:8080/",
          "height": 700
        },
        "id": "o4LIHFdTNRzF",
        "outputId": "09bc23ba-a657-41d0-f84a-c502a12f8f15"
      },
      "source": [
        "!pip install pmdarima"
      ],
      "execution_count": 1,
      "outputs": [
        {
          "output_type": "stream",
          "text": [
            "Collecting pmdarima\n",
            "\u001b[?25l  Downloading https://files.pythonhosted.org/packages/be/62/725b3b6ae0e56c77534de5a8139322e7b863ca53fd5bd6bd3b7de87d0c20/pmdarima-1.7.1-cp36-cp36m-manylinux1_x86_64.whl (1.5MB)\n",
            "\r\u001b[K     |▎                               | 10kB 20.1MB/s eta 0:00:01\r\u001b[K     |▌                               | 20kB 27.7MB/s eta 0:00:01\r\u001b[K     |▊                               | 30kB 31.5MB/s eta 0:00:01\r\u001b[K     |█                               | 40kB 33.6MB/s eta 0:00:01\r\u001b[K     |█▏                              | 51kB 32.4MB/s eta 0:00:01\r\u001b[K     |█▍                              | 61kB 25.4MB/s eta 0:00:01\r\u001b[K     |█▋                              | 71kB 27.2MB/s eta 0:00:01\r\u001b[K     |█▉                              | 81kB 21.9MB/s eta 0:00:01\r\u001b[K     |██                              | 92kB 23.1MB/s eta 0:00:01\r\u001b[K     |██▎                             | 102kB 20.8MB/s eta 0:00:01\r\u001b[K     |██▌                             | 112kB 20.8MB/s eta 0:00:01\r\u001b[K     |██▊                             | 122kB 20.8MB/s eta 0:00:01\r\u001b[K     |███                             | 133kB 20.8MB/s eta 0:00:01\r\u001b[K     |███▏                            | 143kB 20.8MB/s eta 0:00:01\r\u001b[K     |███▍                            | 153kB 20.8MB/s eta 0:00:01\r\u001b[K     |███▋                            | 163kB 20.8MB/s eta 0:00:01\r\u001b[K     |███▉                            | 174kB 20.8MB/s eta 0:00:01\r\u001b[K     |████                            | 184kB 20.8MB/s eta 0:00:01\r\u001b[K     |████▎                           | 194kB 20.8MB/s eta 0:00:01\r\u001b[K     |████▌                           | 204kB 20.8MB/s eta 0:00:01\r\u001b[K     |████▊                           | 215kB 20.8MB/s eta 0:00:01\r\u001b[K     |█████                           | 225kB 20.8MB/s eta 0:00:01\r\u001b[K     |█████▏                          | 235kB 20.8MB/s eta 0:00:01\r\u001b[K     |█████▍                          | 245kB 20.8MB/s eta 0:00:01\r\u001b[K     |█████▋                          | 256kB 20.8MB/s eta 0:00:01\r\u001b[K     |█████▉                          | 266kB 20.8MB/s eta 0:00:01\r\u001b[K     |██████                          | 276kB 20.8MB/s eta 0:00:01\r\u001b[K     |██████▎                         | 286kB 20.8MB/s eta 0:00:01\r\u001b[K     |██████▌                         | 296kB 20.8MB/s eta 0:00:01\r\u001b[K     |██████▊                         | 307kB 20.8MB/s eta 0:00:01\r\u001b[K     |███████                         | 317kB 20.8MB/s eta 0:00:01\r\u001b[K     |███████▏                        | 327kB 20.8MB/s eta 0:00:01\r\u001b[K     |███████▍                        | 337kB 20.8MB/s eta 0:00:01\r\u001b[K     |███████▋                        | 348kB 20.8MB/s eta 0:00:01\r\u001b[K     |███████▉                        | 358kB 20.8MB/s eta 0:00:01\r\u001b[K     |████████                        | 368kB 20.8MB/s eta 0:00:01\r\u001b[K     |████████▎                       | 378kB 20.8MB/s eta 0:00:01\r\u001b[K     |████████▌                       | 389kB 20.8MB/s eta 0:00:01\r\u001b[K     |████████▊                       | 399kB 20.8MB/s eta 0:00:01\r\u001b[K     |█████████                       | 409kB 20.8MB/s eta 0:00:01\r\u001b[K     |█████████▏                      | 419kB 20.8MB/s eta 0:00:01\r\u001b[K     |█████████▍                      | 430kB 20.8MB/s eta 0:00:01\r\u001b[K     |█████████▋                      | 440kB 20.8MB/s eta 0:00:01\r\u001b[K     |█████████▉                      | 450kB 20.8MB/s eta 0:00:01\r\u001b[K     |██████████                      | 460kB 20.8MB/s eta 0:00:01\r\u001b[K     |██████████▎                     | 471kB 20.8MB/s eta 0:00:01\r\u001b[K     |██████████▌                     | 481kB 20.8MB/s eta 0:00:01\r\u001b[K     |██████████▊                     | 491kB 20.8MB/s eta 0:00:01\r\u001b[K     |███████████                     | 501kB 20.8MB/s eta 0:00:01\r\u001b[K     |███████████▏                    | 512kB 20.8MB/s eta 0:00:01\r\u001b[K     |███████████▍                    | 522kB 20.8MB/s eta 0:00:01\r\u001b[K     |███████████▊                    | 532kB 20.8MB/s eta 0:00:01\r\u001b[K     |████████████                    | 542kB 20.8MB/s eta 0:00:01\r\u001b[K     |████████████▏                   | 552kB 20.8MB/s eta 0:00:01\r\u001b[K     |████████████▍                   | 563kB 20.8MB/s eta 0:00:01\r\u001b[K     |████████████▋                   | 573kB 20.8MB/s eta 0:00:01\r\u001b[K     |████████████▉                   | 583kB 20.8MB/s eta 0:00:01\r\u001b[K     |█████████████                   | 593kB 20.8MB/s eta 0:00:01\r\u001b[K     |█████████████▎                  | 604kB 20.8MB/s eta 0:00:01\r\u001b[K     |█████████████▌                  | 614kB 20.8MB/s eta 0:00:01\r\u001b[K     |█████████████▊                  | 624kB 20.8MB/s eta 0:00:01\r\u001b[K     |██████████████                  | 634kB 20.8MB/s eta 0:00:01\r\u001b[K     |██████████████▏                 | 645kB 20.8MB/s eta 0:00:01\r\u001b[K     |██████████████▍                 | 655kB 20.8MB/s eta 0:00:01\r\u001b[K     |██████████████▋                 | 665kB 20.8MB/s eta 0:00:01\r\u001b[K     |██████████████▉                 | 675kB 20.8MB/s eta 0:00:01\r\u001b[K     |███████████████                 | 686kB 20.8MB/s eta 0:00:01\r\u001b[K     |███████████████▎                | 696kB 20.8MB/s eta 0:00:01\r\u001b[K     |███████████████▌                | 706kB 20.8MB/s eta 0:00:01\r\u001b[K     |███████████████▊                | 716kB 20.8MB/s eta 0:00:01\r\u001b[K     |████████████████                | 727kB 20.8MB/s eta 0:00:01\r\u001b[K     |████████████████▏               | 737kB 20.8MB/s eta 0:00:01\r\u001b[K     |████████████████▍               | 747kB 20.8MB/s eta 0:00:01\r\u001b[K     |████████████████▋               | 757kB 20.8MB/s eta 0:00:01\r\u001b[K     |████████████████▉               | 768kB 20.8MB/s eta 0:00:01\r\u001b[K     |█████████████████               | 778kB 20.8MB/s eta 0:00:01\r\u001b[K     |█████████████████▎              | 788kB 20.8MB/s eta 0:00:01\r\u001b[K     |█████████████████▌              | 798kB 20.8MB/s eta 0:00:01\r\u001b[K     |█████████████████▊              | 808kB 20.8MB/s eta 0:00:01\r\u001b[K     |██████████████████              | 819kB 20.8MB/s eta 0:00:01\r\u001b[K     |██████████████████▏             | 829kB 20.8MB/s eta 0:00:01\r\u001b[K     |██████████████████▍             | 839kB 20.8MB/s eta 0:00:01\r\u001b[K     |██████████████████▋             | 849kB 20.8MB/s eta 0:00:01\r\u001b[K     |██████████████████▉             | 860kB 20.8MB/s eta 0:00:01\r\u001b[K     |███████████████████             | 870kB 20.8MB/s eta 0:00:01\r\u001b[K     |███████████████████▎            | 880kB 20.8MB/s eta 0:00:01\r\u001b[K     |███████████████████▌            | 890kB 20.8MB/s eta 0:00:01\r\u001b[K     |███████████████████▊            | 901kB 20.8MB/s eta 0:00:01\r\u001b[K     |████████████████████            | 911kB 20.8MB/s eta 0:00:01\r\u001b[K     |████████████████████▏           | 921kB 20.8MB/s eta 0:00:01\r\u001b[K     |████████████████████▍           | 931kB 20.8MB/s eta 0:00:01\r\u001b[K     |████████████████████▋           | 942kB 20.8MB/s eta 0:00:01\r\u001b[K     |████████████████████▉           | 952kB 20.8MB/s eta 0:00:01\r\u001b[K     |█████████████████████           | 962kB 20.8MB/s eta 0:00:01\r\u001b[K     |█████████████████████▎          | 972kB 20.8MB/s eta 0:00:01\r\u001b[K     |█████████████████████▌          | 983kB 20.8MB/s eta 0:00:01\r\u001b[K     |█████████████████████▊          | 993kB 20.8MB/s eta 0:00:01\r\u001b[K     |██████████████████████          | 1.0MB 20.8MB/s eta 0:00:01\r\u001b[K     |██████████████████████▏         | 1.0MB 20.8MB/s eta 0:00:01\r\u001b[K     |██████████████████████▍         | 1.0MB 20.8MB/s eta 0:00:01\r\u001b[K     |██████████████████████▋         | 1.0MB 20.8MB/s eta 0:00:01\r\u001b[K     |██████████████████████▉         | 1.0MB 20.8MB/s eta 0:00:01\r\u001b[K     |███████████████████████▏        | 1.1MB 20.8MB/s eta 0:00:01\r\u001b[K     |███████████████████████▍        | 1.1MB 20.8MB/s eta 0:00:01\r\u001b[K     |███████████████████████▋        | 1.1MB 20.8MB/s eta 0:00:01\r\u001b[K     |███████████████████████▉        | 1.1MB 20.8MB/s eta 0:00:01\r\u001b[K     |████████████████████████        | 1.1MB 20.8MB/s eta 0:00:01\r\u001b[K     |████████████████████████▎       | 1.1MB 20.8MB/s eta 0:00:01\r\u001b[K     |████████████████████████▌       | 1.1MB 20.8MB/s eta 0:00:01\r\u001b[K     |████████████████████████▊       | 1.1MB 20.8MB/s eta 0:00:01\r\u001b[K     |█████████████████████████       | 1.1MB 20.8MB/s eta 0:00:01\r\u001b[K     |█████████████████████████▏      | 1.1MB 20.8MB/s eta 0:00:01\r\u001b[K     |█████████████████████████▍      | 1.2MB 20.8MB/s eta 0:00:01\r\u001b[K     |█████████████████████████▋      | 1.2MB 20.8MB/s eta 0:00:01\r\u001b[K     |█████████████████████████▉      | 1.2MB 20.8MB/s eta 0:00:01\r\u001b[K     |██████████████████████████      | 1.2MB 20.8MB/s eta 0:00:01\r\u001b[K     |██████████████████████████▎     | 1.2MB 20.8MB/s eta 0:00:01\r\u001b[K     |██████████████████████████▌     | 1.2MB 20.8MB/s eta 0:00:01\r\u001b[K     |██████████████████████████▊     | 1.2MB 20.8MB/s eta 0:00:01\r\u001b[K     |███████████████████████████     | 1.2MB 20.8MB/s eta 0:00:01\r\u001b[K     |███████████████████████████▏    | 1.2MB 20.8MB/s eta 0:00:01\r\u001b[K     |███████████████████████████▍    | 1.2MB 20.8MB/s eta 0:00:01\r\u001b[K     |███████████████████████████▋    | 1.3MB 20.8MB/s eta 0:00:01\r\u001b[K     |███████████████████████████▉    | 1.3MB 20.8MB/s eta 0:00:01\r\u001b[K     |████████████████████████████    | 1.3MB 20.8MB/s eta 0:00:01\r\u001b[K     |████████████████████████████▎   | 1.3MB 20.8MB/s eta 0:00:01\r\u001b[K     |████████████████████████████▌   | 1.3MB 20.8MB/s eta 0:00:01\r\u001b[K     |████████████████████████████▊   | 1.3MB 20.8MB/s eta 0:00:01\r\u001b[K     |█████████████████████████████   | 1.3MB 20.8MB/s eta 0:00:01\r\u001b[K     |█████████████████████████████▏  | 1.3MB 20.8MB/s eta 0:00:01\r\u001b[K     |█████████████████████████████▍  | 1.3MB 20.8MB/s eta 0:00:01\r\u001b[K     |█████████████████████████████▋  | 1.4MB 20.8MB/s eta 0:00:01\r\u001b[K     |█████████████████████████████▉  | 1.4MB 20.8MB/s eta 0:00:01\r\u001b[K     |██████████████████████████████  | 1.4MB 20.8MB/s eta 0:00:01\r\u001b[K     |██████████████████████████████▎ | 1.4MB 20.8MB/s eta 0:00:01\r\u001b[K     |██████████████████████████████▌ | 1.4MB 20.8MB/s eta 0:00:01\r\u001b[K     |██████████████████████████████▊ | 1.4MB 20.8MB/s eta 0:00:01\r\u001b[K     |███████████████████████████████ | 1.4MB 20.8MB/s eta 0:00:01\r\u001b[K     |███████████████████████████████▏| 1.4MB 20.8MB/s eta 0:00:01\r\u001b[K     |███████████████████████████████▍| 1.4MB 20.8MB/s eta 0:00:01\r\u001b[K     |███████████████████████████████▋| 1.4MB 20.8MB/s eta 0:00:01\r\u001b[K     |███████████████████████████████▉| 1.5MB 20.8MB/s eta 0:00:01\r\u001b[K     |████████████████████████████████| 1.5MB 20.8MB/s \n",
            "\u001b[?25hRequirement already satisfied: numpy>=1.17.3 in /usr/local/lib/python3.6/dist-packages (from pmdarima) (1.18.5)\n",
            "Collecting setuptools<50.0.0\n",
            "\u001b[?25l  Downloading https://files.pythonhosted.org/packages/c3/a9/5dc32465951cf4812e9e93b4ad2d314893c2fa6d5f66ce5c057af6e76d85/setuptools-49.6.0-py3-none-any.whl (803kB)\n",
            "\u001b[K     |████████████████████████████████| 808kB 56.1MB/s \n",
            "\u001b[?25hRequirement already satisfied: scikit-learn>=0.22 in /usr/local/lib/python3.6/dist-packages (from pmdarima) (0.22.2.post1)\n",
            "Requirement already satisfied: pandas>=0.19 in /usr/local/lib/python3.6/dist-packages (from pmdarima) (1.1.4)\n",
            "Requirement already satisfied: scipy>=1.3.2 in /usr/local/lib/python3.6/dist-packages (from pmdarima) (1.4.1)\n",
            "Collecting Cython<0.29.18,>=0.29\n",
            "\u001b[?25l  Downloading https://files.pythonhosted.org/packages/e7/d7/510ddef0248f3e1e91f9cc7e31c0f35f8954d0af92c5c3fd4c853e859ebe/Cython-0.29.17-cp36-cp36m-manylinux1_x86_64.whl (2.1MB)\n",
            "\u001b[K     |████████████████████████████████| 2.1MB 52.8MB/s \n",
            "\u001b[?25hRequirement already satisfied: joblib>=0.11 in /usr/local/lib/python3.6/dist-packages (from pmdarima) (0.17.0)\n",
            "Collecting statsmodels<0.12,>=0.11\n",
            "\u001b[?25l  Downloading https://files.pythonhosted.org/packages/cb/83/540fd83238a18abe6c2d280fa8e489ac5fcefa1f370f0ca1acd16ae1b860/statsmodels-0.11.1-cp36-cp36m-manylinux1_x86_64.whl (8.7MB)\n",
            "\u001b[K     |████████████████████████████████| 8.7MB 20.5MB/s \n",
            "\u001b[?25hRequirement already satisfied: urllib3 in /usr/local/lib/python3.6/dist-packages (from pmdarima) (1.24.3)\n",
            "Requirement already satisfied: pytz>=2017.2 in /usr/local/lib/python3.6/dist-packages (from pandas>=0.19->pmdarima) (2018.9)\n",
            "Requirement already satisfied: python-dateutil>=2.7.3 in /usr/local/lib/python3.6/dist-packages (from pandas>=0.19->pmdarima) (2.8.1)\n",
            "Requirement already satisfied: patsy>=0.5 in /usr/local/lib/python3.6/dist-packages (from statsmodels<0.12,>=0.11->pmdarima) (0.5.1)\n",
            "Requirement already satisfied: six>=1.5 in /usr/local/lib/python3.6/dist-packages (from python-dateutil>=2.7.3->pandas>=0.19->pmdarima) (1.15.0)\n",
            "\u001b[31mERROR: datascience 0.10.6 has requirement folium==0.2.1, but you'll have folium 0.8.3 which is incompatible.\u001b[0m\n",
            "Installing collected packages: setuptools, Cython, statsmodels, pmdarima\n",
            "  Found existing installation: setuptools 50.3.2\n",
            "    Uninstalling setuptools-50.3.2:\n",
            "      Successfully uninstalled setuptools-50.3.2\n",
            "  Found existing installation: Cython 0.29.21\n",
            "    Uninstalling Cython-0.29.21:\n",
            "      Successfully uninstalled Cython-0.29.21\n",
            "  Found existing installation: statsmodels 0.10.2\n",
            "    Uninstalling statsmodels-0.10.2:\n",
            "      Successfully uninstalled statsmodels-0.10.2\n",
            "Successfully installed Cython-0.29.17 pmdarima-1.7.1 setuptools-49.6.0 statsmodels-0.11.1\n"
          ],
          "name": "stdout"
        },
        {
          "output_type": "display_data",
          "data": {
            "application/vnd.colab-display-data+json": {
              "pip_warning": {
                "packages": [
                  "pkg_resources"
                ]
              }
            }
          },
          "metadata": {
            "tags": []
          }
        }
      ]
    },
    {
      "cell_type": "code",
      "metadata": {
        "id": "gdeO-DH_Mnd1"
      },
      "source": [
        "from pmdarima import auto_arima"
      ],
      "execution_count": 39,
      "outputs": []
    },
    {
      "cell_type": "code",
      "metadata": {
        "colab": {
          "base_uri": "https://localhost:8080/"
        },
        "id": "PUM6HebWNQg0",
        "outputId": "f5abf6a2-5cbe-4d95-9568-9a948a74bbb8"
      },
      "source": [
        "fit_VWAP_diff=auto_arima(SBIN_clean_df['VWAP_diff'],trace=True,suppress_warnings=True)"
      ],
      "execution_count": 40,
      "outputs": [
        {
          "output_type": "stream",
          "text": [
            "Performing stepwise search to minimize aic\n",
            " ARIMA(2,0,2)(0,0,0)[0] intercept   : AIC=54082.673, Time=3.68 sec\n",
            " ARIMA(0,0,0)(0,0,0)[0] intercept   : AIC=54130.151, Time=0.13 sec\n",
            " ARIMA(1,0,0)(0,0,0)[0] intercept   : AIC=54089.733, Time=0.24 sec\n",
            " ARIMA(0,0,1)(0,0,0)[0] intercept   : AIC=54088.223, Time=0.42 sec\n",
            " ARIMA(0,0,0)(0,0,0)[0]             : AIC=54128.151, Time=0.08 sec\n",
            " ARIMA(1,0,2)(0,0,0)[0] intercept   : AIC=54084.850, Time=2.33 sec\n",
            " ARIMA(2,0,1)(0,0,0)[0] intercept   : AIC=54082.622, Time=2.51 sec\n",
            " ARIMA(1,0,1)(0,0,0)[0] intercept   : AIC=54089.965, Time=0.52 sec\n",
            " ARIMA(2,0,0)(0,0,0)[0] intercept   : AIC=54088.476, Time=0.44 sec\n",
            " ARIMA(3,0,1)(0,0,0)[0] intercept   : AIC=54082.611, Time=3.42 sec\n",
            " ARIMA(3,0,0)(0,0,0)[0] intercept   : AIC=54082.572, Time=0.56 sec\n",
            " ARIMA(4,0,0)(0,0,0)[0] intercept   : AIC=54083.521, Time=0.68 sec\n",
            " ARIMA(4,0,1)(0,0,0)[0] intercept   : AIC=54085.578, Time=0.91 sec\n",
            " ARIMA(3,0,0)(0,0,0)[0]             : AIC=54080.573, Time=0.23 sec\n",
            " ARIMA(2,0,0)(0,0,0)[0]             : AIC=54086.476, Time=0.19 sec\n",
            " ARIMA(4,0,0)(0,0,0)[0]             : AIC=54081.521, Time=0.29 sec\n",
            " ARIMA(3,0,1)(0,0,0)[0]             : AIC=54080.611, Time=1.26 sec\n",
            " ARIMA(2,0,1)(0,0,0)[0]             : AIC=54080.621, Time=0.93 sec\n",
            " ARIMA(4,0,1)(0,0,0)[0]             : AIC=54083.578, Time=0.37 sec\n",
            "\n",
            "Best model:  ARIMA(3,0,0)(0,0,0)[0]          \n",
            "Total fit time: 19.197 seconds\n"
          ],
          "name": "stdout"
        }
      ]
    },
    {
      "cell_type": "code",
      "metadata": {
        "colab": {
          "base_uri": "https://localhost:8080/",
          "height": 444
        },
        "id": "4ZySkHCvO2er",
        "outputId": "7d310557-9673-4f11-b2d0-f03d6e14d384"
      },
      "source": [
        "fit_VWAP_diff.summary()"
      ],
      "execution_count": 41,
      "outputs": [
        {
          "output_type": "execute_result",
          "data": {
            "text/html": [
              "<table class=\"simpletable\">\n",
              "<caption>SARIMAX Results</caption>\n",
              "<tr>\n",
              "  <th>Dep. Variable:</th>           <td>y</td>        <th>  No. Observations:  </th>    <td>5183</td>   \n",
              "</tr>\n",
              "<tr>\n",
              "  <th>Model:</th>           <td>SARIMAX(3, 0, 0)</td> <th>  Log Likelihood     </th> <td>-27036.286</td>\n",
              "</tr>\n",
              "<tr>\n",
              "  <th>Date:</th>            <td>Mon, 30 Nov 2020</td> <th>  AIC                </th>  <td>54080.573</td>\n",
              "</tr>\n",
              "<tr>\n",
              "  <th>Time:</th>                <td>16:45:27</td>     <th>  BIC                </th>  <td>54106.785</td>\n",
              "</tr>\n",
              "<tr>\n",
              "  <th>Sample:</th>                  <td>0</td>        <th>  HQIC               </th>  <td>54089.743</td>\n",
              "</tr>\n",
              "<tr>\n",
              "  <th></th>                      <td> - 5183</td>     <th>                     </th>      <td> </td>    \n",
              "</tr>\n",
              "<tr>\n",
              "  <th>Covariance Type:</th>        <td>opg</td>       <th>                     </th>      <td> </td>    \n",
              "</tr>\n",
              "</table>\n",
              "<table class=\"simpletable\">\n",
              "<tr>\n",
              "     <td></td>       <th>coef</th>     <th>std err</th>      <th>z</th>      <th>P>|z|</th>  <th>[0.025</th>    <th>0.975]</th>  \n",
              "</tr>\n",
              "<tr>\n",
              "  <th>ar.L1</th>  <td>    0.0916</td> <td>    0.003</td> <td>   30.784</td> <td> 0.000</td> <td>    0.086</td> <td>    0.097</td>\n",
              "</tr>\n",
              "<tr>\n",
              "  <th>ar.L2</th>  <td>   -0.0214</td> <td>    0.012</td> <td>   -1.783</td> <td> 0.075</td> <td>   -0.045</td> <td>    0.002</td>\n",
              "</tr>\n",
              "<tr>\n",
              "  <th>ar.L3</th>  <td>   -0.0390</td> <td>    0.007</td> <td>   -5.743</td> <td> 0.000</td> <td>   -0.052</td> <td>   -0.026</td>\n",
              "</tr>\n",
              "<tr>\n",
              "  <th>sigma2</th> <td> 1988.9388</td> <td>    2.011</td> <td>  989.080</td> <td> 0.000</td> <td> 1984.997</td> <td> 1992.880</td>\n",
              "</tr>\n",
              "</table>\n",
              "<table class=\"simpletable\">\n",
              "<tr>\n",
              "  <th>Ljung-Box (Q):</th>          <td>32.77</td> <th>  Jarque-Bera (JB):  </th> <td>1180020729.96</td>\n",
              "</tr>\n",
              "<tr>\n",
              "  <th>Prob(Q):</th>                <td>0.78</td>  <th>  Prob(JB):          </th>     <td>0.00</td>     \n",
              "</tr>\n",
              "<tr>\n",
              "  <th>Heteroskedasticity (H):</th> <td>48.13</td> <th>  Skew:              </th>    <td>-39.55</td>    \n",
              "</tr>\n",
              "<tr>\n",
              "  <th>Prob(H) (two-sided):</th>    <td>0.00</td>  <th>  Kurtosis:          </th>    <td>2339.21</td>   \n",
              "</tr>\n",
              "</table><br/><br/>Warnings:<br/>[1] Covariance matrix calculated using the outer product of gradients (complex-step)."
            ],
            "text/plain": [
              "<class 'statsmodels.iolib.summary.Summary'>\n",
              "\"\"\"\n",
              "                               SARIMAX Results                                \n",
              "==============================================================================\n",
              "Dep. Variable:                      y   No. Observations:                 5183\n",
              "Model:               SARIMAX(3, 0, 0)   Log Likelihood              -27036.286\n",
              "Date:                Mon, 30 Nov 2020   AIC                          54080.573\n",
              "Time:                        16:45:27   BIC                          54106.785\n",
              "Sample:                             0   HQIC                         54089.743\n",
              "                               - 5183                                         \n",
              "Covariance Type:                  opg                                         \n",
              "==============================================================================\n",
              "                 coef    std err          z      P>|z|      [0.025      0.975]\n",
              "------------------------------------------------------------------------------\n",
              "ar.L1          0.0916      0.003     30.784      0.000       0.086       0.097\n",
              "ar.L2         -0.0214      0.012     -1.783      0.075      -0.045       0.002\n",
              "ar.L3         -0.0390      0.007     -5.743      0.000      -0.052      -0.026\n",
              "sigma2      1988.9388      2.011    989.080      0.000    1984.997    1992.880\n",
              "===================================================================================\n",
              "Ljung-Box (Q):                       32.77   Jarque-Bera (JB):        1180020729.96\n",
              "Prob(Q):                              0.78   Prob(JB):                         0.00\n",
              "Heteroskedasticity (H):              48.13   Skew:                           -39.55\n",
              "Prob(H) (two-sided):                  0.00   Kurtosis:                      2339.21\n",
              "===================================================================================\n",
              "\n",
              "Warnings:\n",
              "[1] Covariance matrix calculated using the outer product of gradients (complex-step).\n",
              "\"\"\""
            ]
          },
          "metadata": {
            "tags": []
          },
          "execution_count": 41
        }
      ]
    },
    {
      "cell_type": "code",
      "metadata": {
        "id": "38Nr3PDvPE-s"
      },
      "source": [
        "## so we can see that our best fit model is arima model with parameter (3, 0, 0)"
      ],
      "execution_count": 42,
      "outputs": []
    },
    {
      "cell_type": "code",
      "metadata": {
        "id": "BlNHAv9GPXcz"
      },
      "source": [
        "from statsmodels.tsa.arima_model import ARIMA"
      ],
      "execution_count": 43,
      "outputs": []
    },
    {
      "cell_type": "code",
      "metadata": {
        "colab": {
          "base_uri": "https://localhost:8080/"
        },
        "id": "fckSfrwXQHAL",
        "outputId": "2284f924-8273-427a-d985-0de09f047ac9"
      },
      "source": [
        "SBIN_clean_df.shape"
      ],
      "execution_count": 44,
      "outputs": [
        {
          "output_type": "execute_result",
          "data": {
            "text/plain": [
              "(5183, 18)"
            ]
          },
          "metadata": {
            "tags": []
          },
          "execution_count": 44
        }
      ]
    },
    {
      "cell_type": "code",
      "metadata": {
        "colab": {
          "base_uri": "https://localhost:8080/"
        },
        "id": "JsXgj0u7QShh",
        "outputId": "5bffbb31-c1e8-44ff-d3a1-aea236389d54"
      },
      "source": [
        "SBIN_clean_df.shape[0]*0.90"
      ],
      "execution_count": 45,
      "outputs": [
        {
          "output_type": "execute_result",
          "data": {
            "text/plain": [
              "4664.7"
            ]
          },
          "metadata": {
            "tags": []
          },
          "execution_count": 45
        }
      ]
    },
    {
      "cell_type": "code",
      "metadata": {
        "id": "tjusmPJ0QY4w"
      },
      "source": [
        "train=SBIN_clean_df.iloc[:4665]\n",
        "test=SBIN_clean_df.iloc[4665:]"
      ],
      "execution_count": 46,
      "outputs": []
    },
    {
      "cell_type": "code",
      "metadata": {
        "colab": {
          "base_uri": "https://localhost:8080/"
        },
        "id": "bOe5sI76QwDn",
        "outputId": "b63a88f6-e986-4b17-9231-204e26eef431"
      },
      "source": [
        "train.shape"
      ],
      "execution_count": 47,
      "outputs": [
        {
          "output_type": "execute_result",
          "data": {
            "text/plain": [
              "(4665, 18)"
            ]
          },
          "metadata": {
            "tags": []
          },
          "execution_count": 47
        }
      ]
    },
    {
      "cell_type": "code",
      "metadata": {
        "colab": {
          "base_uri": "https://localhost:8080/"
        },
        "id": "urOcGbXKQ0J5",
        "outputId": "74e84b93-16af-4ee9-e4db-3e89cd9df1c9"
      },
      "source": [
        "test.shape"
      ],
      "execution_count": 48,
      "outputs": [
        {
          "output_type": "execute_result",
          "data": {
            "text/plain": [
              "(518, 18)"
            ]
          },
          "metadata": {
            "tags": []
          },
          "execution_count": 48
        }
      ]
    },
    {
      "cell_type": "code",
      "metadata": {
        "colab": {
          "base_uri": "https://localhost:8080/"
        },
        "id": "8PHKbssISHyL",
        "outputId": "f556f0d9-e157-4f5d-b341-24b66058c021"
      },
      "source": [
        "train['VWAP_diff']"
      ],
      "execution_count": 49,
      "outputs": [
        {
          "output_type": "execute_result",
          "data": {
            "text/plain": [
              "Date\n",
              "2000-01-04    10.63\n",
              "2000-01-05     0.89\n",
              "2000-01-06     9.83\n",
              "2000-01-07     6.84\n",
              "2000-01-10    10.77\n",
              "              ...  \n",
              "2018-09-19    -3.77\n",
              "2018-09-21    -1.28\n",
              "2018-09-24    -5.72\n",
              "2018-09-25    -1.00\n",
              "2018-09-26     0.88\n",
              "Name: VWAP_diff, Length: 4665, dtype: float64"
            ]
          },
          "metadata": {
            "tags": []
          },
          "execution_count": 49
        }
      ]
    },
    {
      "cell_type": "code",
      "metadata": {
        "colab": {
          "base_uri": "https://localhost:8080/",
          "height": 430
        },
        "id": "vKXfC4BgPiZK",
        "outputId": "bf9fb5e8-f047-4998-834b-7c27ae7b6b5b"
      },
      "source": [
        "model_VWAP_diff=ARIMA(train['VWAP_diff'],order = (3, 0, 0))\n",
        "model_VWAP_diff=model_VWAP_diff.fit()\n",
        "model_VWAP_diff.summary()"
      ],
      "execution_count": 50,
      "outputs": [
        {
          "output_type": "stream",
          "text": [
            "/usr/local/lib/python3.6/dist-packages/statsmodels/tsa/base/tsa_model.py:218: ValueWarning: A date index has been provided, but it has no associated frequency information and so will be ignored when e.g. forecasting.\n",
            "  ' ignored when e.g. forecasting.', ValueWarning)\n"
          ],
          "name": "stderr"
        },
        {
          "output_type": "execute_result",
          "data": {
            "text/html": [
              "<table class=\"simpletable\">\n",
              "<caption>ARMA Model Results</caption>\n",
              "<tr>\n",
              "  <th>Dep. Variable:</th>     <td>VWAP_diff</td>    <th>  No. Observations:  </th>    <td>4665</td>   \n",
              "</tr>\n",
              "<tr>\n",
              "  <th>Model:</th>            <td>ARMA(3, 0)</td>    <th>  Log Likelihood     </th> <td>-24576.453</td>\n",
              "</tr>\n",
              "<tr>\n",
              "  <th>Method:</th>             <td>css-mle</td>     <th>  S.D. of innovations</th>   <td>46.961</td>  \n",
              "</tr>\n",
              "<tr>\n",
              "  <th>Date:</th>          <td>Mon, 30 Nov 2020</td> <th>  AIC                </th>  <td>49162.905</td>\n",
              "</tr>\n",
              "<tr>\n",
              "  <th>Time:</th>              <td>16:45:27</td>     <th>  BIC                </th>  <td>49195.145</td>\n",
              "</tr>\n",
              "<tr>\n",
              "  <th>Sample:</th>                <td>0</td>        <th>  HQIC               </th>  <td>49174.244</td>\n",
              "</tr>\n",
              "<tr>\n",
              "  <th></th>                       <td> </td>        <th>                     </th>      <td> </td>    \n",
              "</tr>\n",
              "</table>\n",
              "<table class=\"simpletable\">\n",
              "<tr>\n",
              "         <td></td>            <th>coef</th>     <th>std err</th>      <th>z</th>      <th>P>|z|</th>  <th>[0.025</th>    <th>0.975]</th>  \n",
              "</tr>\n",
              "<tr>\n",
              "  <th>const</th>           <td>    0.0056</td> <td>    0.709</td> <td>    0.008</td> <td> 0.994</td> <td>   -1.385</td> <td>    1.396</td>\n",
              "</tr>\n",
              "<tr>\n",
              "  <th>ar.L1.VWAP_diff</th> <td>    0.0914</td> <td>    0.015</td> <td>    6.248</td> <td> 0.000</td> <td>    0.063</td> <td>    0.120</td>\n",
              "</tr>\n",
              "<tr>\n",
              "  <th>ar.L2.VWAP_diff</th> <td>   -0.0215</td> <td>    0.015</td> <td>   -1.463</td> <td> 0.143</td> <td>   -0.050</td> <td>    0.007</td>\n",
              "</tr>\n",
              "<tr>\n",
              "  <th>ar.L3.VWAP_diff</th> <td>   -0.0392</td> <td>    0.015</td> <td>   -2.678</td> <td> 0.007</td> <td>   -0.068</td> <td>   -0.011</td>\n",
              "</tr>\n",
              "</table>\n",
              "<table class=\"simpletable\">\n",
              "<caption>Roots</caption>\n",
              "<tr>\n",
              "    <td></td>   <th>            Real</th>  <th>         Imaginary</th> <th>         Modulus</th>  <th>        Frequency</th>\n",
              "</tr>\n",
              "<tr>\n",
              "  <th>AR.1</th> <td>           1.4344</td> <td>          -2.3265j</td> <td>           2.7332</td> <td>          -0.1621</td>\n",
              "</tr>\n",
              "<tr>\n",
              "  <th>AR.2</th> <td>           1.4344</td> <td>          +2.3265j</td> <td>           2.7332</td> <td>           0.1621</td>\n",
              "</tr>\n",
              "<tr>\n",
              "  <th>AR.3</th> <td>          -3.4172</td> <td>          -0.0000j</td> <td>           3.4172</td> <td>          -0.5000</td>\n",
              "</tr>\n",
              "</table>"
            ],
            "text/plain": [
              "<class 'statsmodels.iolib.summary.Summary'>\n",
              "\"\"\"\n",
              "                              ARMA Model Results                              \n",
              "==============================================================================\n",
              "Dep. Variable:              VWAP_diff   No. Observations:                 4665\n",
              "Model:                     ARMA(3, 0)   Log Likelihood              -24576.453\n",
              "Method:                       css-mle   S.D. of innovations             46.961\n",
              "Date:                Mon, 30 Nov 2020   AIC                          49162.905\n",
              "Time:                        16:45:27   BIC                          49195.145\n",
              "Sample:                             0   HQIC                         49174.244\n",
              "                                                                              \n",
              "===================================================================================\n",
              "                      coef    std err          z      P>|z|      [0.025      0.975]\n",
              "-----------------------------------------------------------------------------------\n",
              "const               0.0056      0.709      0.008      0.994      -1.385       1.396\n",
              "ar.L1.VWAP_diff     0.0914      0.015      6.248      0.000       0.063       0.120\n",
              "ar.L2.VWAP_diff    -0.0215      0.015     -1.463      0.143      -0.050       0.007\n",
              "ar.L3.VWAP_diff    -0.0392      0.015     -2.678      0.007      -0.068      -0.011\n",
              "                                    Roots                                    \n",
              "=============================================================================\n",
              "                  Real          Imaginary           Modulus         Frequency\n",
              "-----------------------------------------------------------------------------\n",
              "AR.1            1.4344           -2.3265j            2.7332           -0.1621\n",
              "AR.2            1.4344           +2.3265j            2.7332            0.1621\n",
              "AR.3           -3.4172           -0.0000j            3.4172           -0.5000\n",
              "-----------------------------------------------------------------------------\n",
              "\"\"\""
            ]
          },
          "metadata": {
            "tags": []
          },
          "execution_count": 50
        }
      ]
    },
    {
      "cell_type": "code",
      "metadata": {
        "id": "0JR-ZkknSxR2"
      },
      "source": [
        "## if getting error value warning like ValueWarning: A date index has been provided, but it has no associated frequency information and so will be ignored when e.g. forecasting. "
      ],
      "execution_count": 52,
      "outputs": []
    },
    {
      "cell_type": "code",
      "metadata": {
        "id": "5RuqZ0AES5wl"
      },
      "source": [
        "#then we can use to_period method\n",
        "#SBIN_clean_df.index = pd.DatetimeIndex(SBIN_clean_df.index).to_period('M')\n",
        "#or \n",
        "#DatetimeIndex\n",
        "SBIN_clean_df.index = pd.DatetimeIndex(SBIN_clean_df.index).to_period('d')\n"
      ],
      "execution_count": 51,
      "outputs": []
    },
    {
      "cell_type": "code",
      "metadata": {
        "id": "sPjIWNElR5aB"
      },
      "source": [
        "train=SBIN_clean_df.iloc[:4665]\n",
        "test=SBIN_clean_df.iloc[4665:]"
      ],
      "execution_count": 52,
      "outputs": []
    },
    {
      "cell_type": "code",
      "metadata": {
        "colab": {
          "base_uri": "https://localhost:8080/"
        },
        "id": "qk8jGhwoeaG_",
        "outputId": "855d859b-713a-46dc-95a5-58f221292f82"
      },
      "source": [
        "train['VWAP_diff'].shape"
      ],
      "execution_count": 53,
      "outputs": [
        {
          "output_type": "execute_result",
          "data": {
            "text/plain": [
              "(4665,)"
            ]
          },
          "metadata": {
            "tags": []
          },
          "execution_count": 53
        }
      ]
    },
    {
      "cell_type": "code",
      "metadata": {
        "colab": {
          "base_uri": "https://localhost:8080/",
          "height": 393
        },
        "id": "FUhxrW0sR-HK",
        "outputId": "7832e81c-c2c7-40b5-d39a-fa610e5b9229"
      },
      "source": [
        "\n",
        "\n",
        "model_VWAP_diff=ARIMA(train['VWAP_diff'],order = (3, 0, 0))\n",
        "model_VWAP_diff=model_VWAP_diff.fit()\n",
        "model_VWAP_diff.summary()"
      ],
      "execution_count": 54,
      "outputs": [
        {
          "output_type": "execute_result",
          "data": {
            "text/html": [
              "<table class=\"simpletable\">\n",
              "<caption>ARMA Model Results</caption>\n",
              "<tr>\n",
              "  <th>Dep. Variable:</th>     <td>VWAP_diff</td>    <th>  No. Observations:  </th>    <td>4665</td>   \n",
              "</tr>\n",
              "<tr>\n",
              "  <th>Model:</th>            <td>ARMA(3, 0)</td>    <th>  Log Likelihood     </th> <td>-24576.453</td>\n",
              "</tr>\n",
              "<tr>\n",
              "  <th>Method:</th>             <td>css-mle</td>     <th>  S.D. of innovations</th>   <td>46.961</td>  \n",
              "</tr>\n",
              "<tr>\n",
              "  <th>Date:</th>          <td>Mon, 30 Nov 2020</td> <th>  AIC                </th>  <td>49162.905</td>\n",
              "</tr>\n",
              "<tr>\n",
              "  <th>Time:</th>              <td>16:45:37</td>     <th>  BIC                </th>  <td>49195.145</td>\n",
              "</tr>\n",
              "<tr>\n",
              "  <th>Sample:</th>           <td>01-04-2000</td>    <th>  HQIC               </th>  <td>49174.244</td>\n",
              "</tr>\n",
              "<tr>\n",
              "  <th></th>                 <td>- 09-26-2018</td>   <th>                     </th>      <td> </td>    \n",
              "</tr>\n",
              "</table>\n",
              "<table class=\"simpletable\">\n",
              "<tr>\n",
              "         <td></td>            <th>coef</th>     <th>std err</th>      <th>z</th>      <th>P>|z|</th>  <th>[0.025</th>    <th>0.975]</th>  \n",
              "</tr>\n",
              "<tr>\n",
              "  <th>const</th>           <td>    0.0056</td> <td>    0.709</td> <td>    0.008</td> <td> 0.994</td> <td>   -1.385</td> <td>    1.396</td>\n",
              "</tr>\n",
              "<tr>\n",
              "  <th>ar.L1.VWAP_diff</th> <td>    0.0914</td> <td>    0.015</td> <td>    6.248</td> <td> 0.000</td> <td>    0.063</td> <td>    0.120</td>\n",
              "</tr>\n",
              "<tr>\n",
              "  <th>ar.L2.VWAP_diff</th> <td>   -0.0215</td> <td>    0.015</td> <td>   -1.463</td> <td> 0.143</td> <td>   -0.050</td> <td>    0.007</td>\n",
              "</tr>\n",
              "<tr>\n",
              "  <th>ar.L3.VWAP_diff</th> <td>   -0.0392</td> <td>    0.015</td> <td>   -2.678</td> <td> 0.007</td> <td>   -0.068</td> <td>   -0.011</td>\n",
              "</tr>\n",
              "</table>\n",
              "<table class=\"simpletable\">\n",
              "<caption>Roots</caption>\n",
              "<tr>\n",
              "    <td></td>   <th>            Real</th>  <th>         Imaginary</th> <th>         Modulus</th>  <th>        Frequency</th>\n",
              "</tr>\n",
              "<tr>\n",
              "  <th>AR.1</th> <td>           1.4344</td> <td>          -2.3265j</td> <td>           2.7332</td> <td>          -0.1621</td>\n",
              "</tr>\n",
              "<tr>\n",
              "  <th>AR.2</th> <td>           1.4344</td> <td>          +2.3265j</td> <td>           2.7332</td> <td>           0.1621</td>\n",
              "</tr>\n",
              "<tr>\n",
              "  <th>AR.3</th> <td>          -3.4172</td> <td>          -0.0000j</td> <td>           3.4172</td> <td>          -0.5000</td>\n",
              "</tr>\n",
              "</table>"
            ],
            "text/plain": [
              "<class 'statsmodels.iolib.summary.Summary'>\n",
              "\"\"\"\n",
              "                              ARMA Model Results                              \n",
              "==============================================================================\n",
              "Dep. Variable:              VWAP_diff   No. Observations:                 4665\n",
              "Model:                     ARMA(3, 0)   Log Likelihood              -24576.453\n",
              "Method:                       css-mle   S.D. of innovations             46.961\n",
              "Date:                Mon, 30 Nov 2020   AIC                          49162.905\n",
              "Time:                        16:45:37   BIC                          49195.145\n",
              "Sample:                    01-04-2000   HQIC                         49174.244\n",
              "                         - 09-26-2018                                         \n",
              "===================================================================================\n",
              "                      coef    std err          z      P>|z|      [0.025      0.975]\n",
              "-----------------------------------------------------------------------------------\n",
              "const               0.0056      0.709      0.008      0.994      -1.385       1.396\n",
              "ar.L1.VWAP_diff     0.0914      0.015      6.248      0.000       0.063       0.120\n",
              "ar.L2.VWAP_diff    -0.0215      0.015     -1.463      0.143      -0.050       0.007\n",
              "ar.L3.VWAP_diff    -0.0392      0.015     -2.678      0.007      -0.068      -0.011\n",
              "                                    Roots                                    \n",
              "=============================================================================\n",
              "                  Real          Imaginary           Modulus         Frequency\n",
              "-----------------------------------------------------------------------------\n",
              "AR.1            1.4344           -2.3265j            2.7332           -0.1621\n",
              "AR.2            1.4344           +2.3265j            2.7332            0.1621\n",
              "AR.3           -3.4172           -0.0000j            3.4172           -0.5000\n",
              "-----------------------------------------------------------------------------\n",
              "\"\"\""
            ]
          },
          "metadata": {
            "tags": []
          },
          "execution_count": 54
        }
      ]
    },
    {
      "cell_type": "code",
      "metadata": {
        "id": "pFJ4RNEATjpZ"
      },
      "source": [
        "start=len(train)\n",
        "end=len(train)+len(test)-1\n",
        "pred=model_VWAP_diff.predict(start=start,end=end)\n",
        "#pred.index=SBIN_clean_df.index[start:end+1]"
      ],
      "execution_count": 55,
      "outputs": []
    },
    {
      "cell_type": "code",
      "metadata": {
        "colab": {
          "base_uri": "https://localhost:8080/"
        },
        "id": "ScK_S5F4a4pj",
        "outputId": "8be54a09-9282-4201-ca1a-ecbce2c0da8e"
      },
      "source": [
        "start"
      ],
      "execution_count": 56,
      "outputs": [
        {
          "output_type": "execute_result",
          "data": {
            "text/plain": [
              "4665"
            ]
          },
          "metadata": {
            "tags": []
          },
          "execution_count": 56
        }
      ]
    },
    {
      "cell_type": "code",
      "metadata": {
        "colab": {
          "base_uri": "https://localhost:8080/"
        },
        "id": "0Krl-pqwenbd",
        "outputId": "70224f1c-5870-4c3b-d820-a0fd96974e9e"
      },
      "source": [
        "end"
      ],
      "execution_count": 57,
      "outputs": [
        {
          "output_type": "execute_result",
          "data": {
            "text/plain": [
              "5182"
            ]
          },
          "metadata": {
            "tags": []
          },
          "execution_count": 57
        }
      ]
    },
    {
      "cell_type": "code",
      "metadata": {
        "colab": {
          "base_uri": "https://localhost:8080/"
        },
        "id": "U8NgPNjoUAG0",
        "outputId": "0a23017c-f2a6-48c1-b6e1-398e4bc32807"
      },
      "source": [
        "pred"
      ],
      "execution_count": 58,
      "outputs": [
        {
          "output_type": "execute_result",
          "data": {
            "text/plain": [
              "2012-10-12    0.331389\n",
              "2012-10-13    0.055961\n",
              "2012-10-14   -0.031071\n",
              "2012-10-15   -0.011617\n",
              "2012-10-16    0.002821\n",
              "                ...   \n",
              "2014-03-09    0.005578\n",
              "2014-03-10    0.005578\n",
              "2014-03-11    0.005578\n",
              "2014-03-12    0.005578\n",
              "2014-03-13    0.005578\n",
              "Freq: D, Length: 518, dtype: float64"
            ]
          },
          "metadata": {
            "tags": []
          },
          "execution_count": 58
        }
      ]
    },
    {
      "cell_type": "code",
      "metadata": {
        "id": "s8isLoOMUBwI"
      },
      "source": [
        "#SBIN_clean_df[start:end+1]"
      ],
      "execution_count": 59,
      "outputs": []
    },
    {
      "cell_type": "code",
      "metadata": {
        "id": "50Q9c3QkUNAU"
      },
      "source": [
        "###Predicting close value using arima"
      ],
      "execution_count": 60,
      "outputs": []
    },
    {
      "cell_type": "code",
      "metadata": {
        "colab": {
          "base_uri": "https://localhost:8080/"
        },
        "id": "wxaZomo3V5xi",
        "outputId": "c12caffe-76d7-4adb-d925-8d88876441e2"
      },
      "source": [
        "fit_Close_diff=auto_arima(SBIN_clean_df['Close_diff'],trace=True,suppress_warnings=True)"
      ],
      "execution_count": 61,
      "outputs": [
        {
          "output_type": "stream",
          "text": [
            "Performing stepwise search to minimize aic\n",
            " ARIMA(2,0,2)(0,0,0)[0] intercept   : AIC=54512.301, Time=5.52 sec\n",
            " ARIMA(0,0,0)(0,0,0)[0] intercept   : AIC=54533.737, Time=0.13 sec\n",
            " ARIMA(1,0,0)(0,0,0)[0] intercept   : AIC=54522.703, Time=0.16 sec\n",
            " ARIMA(0,0,1)(0,0,0)[0] intercept   : AIC=54522.463, Time=0.41 sec\n",
            " ARIMA(0,0,0)(0,0,0)[0]             : AIC=54531.737, Time=0.08 sec\n",
            " ARIMA(1,0,2)(0,0,0)[0] intercept   : AIC=54518.926, Time=2.62 sec\n",
            " ARIMA(2,0,1)(0,0,0)[0] intercept   : AIC=54517.554, Time=4.16 sec\n",
            " ARIMA(3,0,2)(0,0,0)[0] intercept   : AIC=54516.554, Time=4.44 sec\n",
            " ARIMA(2,0,3)(0,0,0)[0] intercept   : AIC=54516.787, Time=2.59 sec\n",
            " ARIMA(1,0,1)(0,0,0)[0] intercept   : AIC=54524.402, Time=1.03 sec\n",
            " ARIMA(1,0,3)(0,0,0)[0] intercept   : AIC=54514.808, Time=0.78 sec\n",
            " ARIMA(3,0,1)(0,0,0)[0] intercept   : AIC=54514.659, Time=2.65 sec\n",
            " ARIMA(3,0,3)(0,0,0)[0] intercept   : AIC=54516.264, Time=7.52 sec\n",
            " ARIMA(2,0,2)(0,0,0)[0]             : AIC=54510.300, Time=1.99 sec\n",
            " ARIMA(1,0,2)(0,0,0)[0]             : AIC=54516.926, Time=0.84 sec\n",
            " ARIMA(2,0,1)(0,0,0)[0]             : AIC=54515.554, Time=1.38 sec\n",
            " ARIMA(3,0,2)(0,0,0)[0]             : AIC=54514.552, Time=1.65 sec\n",
            " ARIMA(2,0,3)(0,0,0)[0]             : AIC=54514.788, Time=1.04 sec\n",
            " ARIMA(1,0,1)(0,0,0)[0]             : AIC=54522.402, Time=0.41 sec\n",
            " ARIMA(1,0,3)(0,0,0)[0]             : AIC=54512.809, Time=0.34 sec\n",
            " ARIMA(3,0,1)(0,0,0)[0]             : AIC=54512.659, Time=1.02 sec\n",
            " ARIMA(3,0,3)(0,0,0)[0]             : AIC=54514.264, Time=3.10 sec\n",
            "\n",
            "Best model:  ARIMA(2,0,2)(0,0,0)[0]          \n",
            "Total fit time: 43.896 seconds\n"
          ],
          "name": "stdout"
        }
      ]
    },
    {
      "cell_type": "code",
      "metadata": {
        "colab": {
          "base_uri": "https://localhost:8080/",
          "height": 465
        },
        "id": "KgCWfYwyWGIH",
        "outputId": "289e6734-4fe6-4579-de5e-6c307ce3e815"
      },
      "source": [
        "fit_Close_diff.summary()"
      ],
      "execution_count": 62,
      "outputs": [
        {
          "output_type": "execute_result",
          "data": {
            "text/html": [
              "<table class=\"simpletable\">\n",
              "<caption>SARIMAX Results</caption>\n",
              "<tr>\n",
              "  <th>Dep. Variable:</th>           <td>y</td>        <th>  No. Observations:  </th>    <td>5183</td>   \n",
              "</tr>\n",
              "<tr>\n",
              "  <th>Model:</th>           <td>SARIMAX(2, 0, 2)</td> <th>  Log Likelihood     </th> <td>-27250.150</td>\n",
              "</tr>\n",
              "<tr>\n",
              "  <th>Date:</th>            <td>Mon, 30 Nov 2020</td> <th>  AIC                </th>  <td>54510.300</td>\n",
              "</tr>\n",
              "<tr>\n",
              "  <th>Time:</th>                <td>16:46:41</td>     <th>  BIC                </th>  <td>54543.066</td>\n",
              "</tr>\n",
              "<tr>\n",
              "  <th>Sample:</th>                  <td>0</td>        <th>  HQIC               </th>  <td>54521.763</td>\n",
              "</tr>\n",
              "<tr>\n",
              "  <th></th>                      <td> - 5183</td>     <th>                     </th>      <td> </td>    \n",
              "</tr>\n",
              "<tr>\n",
              "  <th>Covariance Type:</th>        <td>opg</td>       <th>                     </th>      <td> </td>    \n",
              "</tr>\n",
              "</table>\n",
              "<table class=\"simpletable\">\n",
              "<tr>\n",
              "     <td></td>       <th>coef</th>     <th>std err</th>      <th>z</th>      <th>P>|z|</th>  <th>[0.025</th>    <th>0.975]</th>  \n",
              "</tr>\n",
              "<tr>\n",
              "  <th>ar.L1</th>  <td>    1.2929</td> <td>    0.077</td> <td>   16.832</td> <td> 0.000</td> <td>    1.142</td> <td>    1.443</td>\n",
              "</tr>\n",
              "<tr>\n",
              "  <th>ar.L2</th>  <td>   -0.7902</td> <td>    0.076</td> <td>  -10.392</td> <td> 0.000</td> <td>   -0.939</td> <td>   -0.641</td>\n",
              "</tr>\n",
              "<tr>\n",
              "  <th>ma.L1</th>  <td>   -1.2577</td> <td>    0.080</td> <td>  -15.732</td> <td> 0.000</td> <td>   -1.414</td> <td>   -1.101</td>\n",
              "</tr>\n",
              "<tr>\n",
              "  <th>ma.L2</th>  <td>    0.7441</td> <td>    0.081</td> <td>    9.228</td> <td> 0.000</td> <td>    0.586</td> <td>    0.902</td>\n",
              "</tr>\n",
              "<tr>\n",
              "  <th>sigma2</th> <td> 2158.8492</td> <td>    2.633</td> <td>  819.835</td> <td> 0.000</td> <td> 2153.688</td> <td> 2164.010</td>\n",
              "</tr>\n",
              "</table>\n",
              "<table class=\"simpletable\">\n",
              "<tr>\n",
              "  <th>Ljung-Box (Q):</th>          <td>31.04</td> <th>  Jarque-Bera (JB):  </th> <td>784921095.27</td>\n",
              "</tr>\n",
              "<tr>\n",
              "  <th>Prob(Q):</th>                <td>0.84</td>  <th>  Prob(JB):          </th>     <td>0.00</td>    \n",
              "</tr>\n",
              "<tr>\n",
              "  <th>Heteroskedasticity (H):</th> <td>35.64</td> <th>  Skew:              </th>    <td>-33.95</td>   \n",
              "</tr>\n",
              "<tr>\n",
              "  <th>Prob(H) (two-sided):</th>    <td>0.00</td>  <th>  Kurtosis:          </th>    <td>1908.25</td>  \n",
              "</tr>\n",
              "</table><br/><br/>Warnings:<br/>[1] Covariance matrix calculated using the outer product of gradients (complex-step)."
            ],
            "text/plain": [
              "<class 'statsmodels.iolib.summary.Summary'>\n",
              "\"\"\"\n",
              "                               SARIMAX Results                                \n",
              "==============================================================================\n",
              "Dep. Variable:                      y   No. Observations:                 5183\n",
              "Model:               SARIMAX(2, 0, 2)   Log Likelihood              -27250.150\n",
              "Date:                Mon, 30 Nov 2020   AIC                          54510.300\n",
              "Time:                        16:46:41   BIC                          54543.066\n",
              "Sample:                             0   HQIC                         54521.763\n",
              "                               - 5183                                         \n",
              "Covariance Type:                  opg                                         \n",
              "==============================================================================\n",
              "                 coef    std err          z      P>|z|      [0.025      0.975]\n",
              "------------------------------------------------------------------------------\n",
              "ar.L1          1.2929      0.077     16.832      0.000       1.142       1.443\n",
              "ar.L2         -0.7902      0.076    -10.392      0.000      -0.939      -0.641\n",
              "ma.L1         -1.2577      0.080    -15.732      0.000      -1.414      -1.101\n",
              "ma.L2          0.7441      0.081      9.228      0.000       0.586       0.902\n",
              "sigma2      2158.8492      2.633    819.835      0.000    2153.688    2164.010\n",
              "===================================================================================\n",
              "Ljung-Box (Q):                       31.04   Jarque-Bera (JB):         784921095.27\n",
              "Prob(Q):                              0.84   Prob(JB):                         0.00\n",
              "Heteroskedasticity (H):              35.64   Skew:                           -33.95\n",
              "Prob(H) (two-sided):                  0.00   Kurtosis:                      1908.25\n",
              "===================================================================================\n",
              "\n",
              "Warnings:\n",
              "[1] Covariance matrix calculated using the outer product of gradients (complex-step).\n",
              "\"\"\""
            ]
          },
          "metadata": {
            "tags": []
          },
          "execution_count": 62
        }
      ]
    },
    {
      "cell_type": "code",
      "metadata": {
        "id": "ImGvkyRWWXap"
      },
      "source": [
        "## best model is ARIMA(2, 0, 2)"
      ],
      "execution_count": 63,
      "outputs": []
    },
    {
      "cell_type": "code",
      "metadata": {
        "colab": {
          "base_uri": "https://localhost:8080/"
        },
        "id": "QkeR8fVmXDew",
        "outputId": "35f71920-5981-4342-d068-b73abac293c9"
      },
      "source": [
        "train['Close_diff'].head()"
      ],
      "execution_count": 64,
      "outputs": [
        {
          "output_type": "execute_result",
          "data": {
            "text/plain": [
              "Date\n",
              "2000-01-04    15.45\n",
              "2000-01-05   -10.65\n",
              "2000-01-06    12.55\n",
              "2000-01-07    12.30\n",
              "2000-01-10    -3.80\n",
              "Freq: D, Name: Close_diff, dtype: float64"
            ]
          },
          "metadata": {
            "tags": []
          },
          "execution_count": 64
        }
      ]
    },
    {
      "cell_type": "code",
      "metadata": {
        "colab": {
          "base_uri": "https://localhost:8080/",
          "height": 435
        },
        "id": "OhD1hpMkWeJg",
        "outputId": "9e526dd5-2c7a-42e6-895e-85b0f71e4abe"
      },
      "source": [
        "model_Close_diff=ARIMA(train['Close_diff'],order = (2, 0, 2))\n",
        "model_Close_diff=model_Close_diff.fit()\n",
        "model_Close_diff.summary()"
      ],
      "execution_count": 65,
      "outputs": [
        {
          "output_type": "execute_result",
          "data": {
            "text/html": [
              "<table class=\"simpletable\">\n",
              "<caption>ARMA Model Results</caption>\n",
              "<tr>\n",
              "  <th>Dep. Variable:</th>    <td>Close_diff</td>    <th>  No. Observations:  </th>    <td>4665</td>   \n",
              "</tr>\n",
              "<tr>\n",
              "  <th>Model:</th>            <td>ARMA(2, 2)</td>    <th>  Log Likelihood     </th> <td>-24767.594</td>\n",
              "</tr>\n",
              "<tr>\n",
              "  <th>Method:</th>             <td>css-mle</td>     <th>  S.D. of innovations</th>   <td>48.925</td>  \n",
              "</tr>\n",
              "<tr>\n",
              "  <th>Date:</th>          <td>Mon, 30 Nov 2020</td> <th>  AIC                </th>  <td>49547.188</td>\n",
              "</tr>\n",
              "<tr>\n",
              "  <th>Time:</th>              <td>16:46:43</td>     <th>  BIC                </th>  <td>49585.875</td>\n",
              "</tr>\n",
              "<tr>\n",
              "  <th>Sample:</th>           <td>01-04-2000</td>    <th>  HQIC               </th>  <td>49560.795</td>\n",
              "</tr>\n",
              "<tr>\n",
              "  <th></th>                 <td>- 09-26-2018</td>   <th>                     </th>      <td> </td>    \n",
              "</tr>\n",
              "</table>\n",
              "<table class=\"simpletable\">\n",
              "<tr>\n",
              "          <td></td>            <th>coef</th>     <th>std err</th>      <th>z</th>      <th>P>|z|</th>  <th>[0.025</th>    <th>0.975]</th>  \n",
              "</tr>\n",
              "<tr>\n",
              "  <th>const</th>            <td>    0.0034</td> <td>    0.701</td> <td>    0.005</td> <td> 0.996</td> <td>   -1.370</td> <td>    1.377</td>\n",
              "</tr>\n",
              "<tr>\n",
              "  <th>ar.L1.Close_diff</th> <td>    1.2919</td> <td>    0.098</td> <td>   13.218</td> <td> 0.000</td> <td>    1.100</td> <td>    1.483</td>\n",
              "</tr>\n",
              "<tr>\n",
              "  <th>ar.L2.Close_diff</th> <td>   -0.7896</td> <td>    0.138</td> <td>   -5.723</td> <td> 0.000</td> <td>   -1.060</td> <td>   -0.519</td>\n",
              "</tr>\n",
              "<tr>\n",
              "  <th>ma.L1.Close_diff</th> <td>   -1.2565</td> <td>    0.107</td> <td>  -11.720</td> <td> 0.000</td> <td>   -1.467</td> <td>   -1.046</td>\n",
              "</tr>\n",
              "<tr>\n",
              "  <th>ma.L2.Close_diff</th> <td>    0.7433</td> <td>    0.151</td> <td>    4.916</td> <td> 0.000</td> <td>    0.447</td> <td>    1.040</td>\n",
              "</tr>\n",
              "</table>\n",
              "<table class=\"simpletable\">\n",
              "<caption>Roots</caption>\n",
              "<tr>\n",
              "    <td></td>   <th>            Real</th>  <th>         Imaginary</th> <th>         Modulus</th>  <th>        Frequency</th>\n",
              "</tr>\n",
              "<tr>\n",
              "  <th>AR.1</th> <td>           0.8181</td> <td>          -0.7728j</td> <td>           1.1254</td> <td>          -0.1205</td>\n",
              "</tr>\n",
              "<tr>\n",
              "  <th>AR.2</th> <td>           0.8181</td> <td>          +0.7728j</td> <td>           1.1254</td> <td>           0.1205</td>\n",
              "</tr>\n",
              "<tr>\n",
              "  <th>MA.1</th> <td>           0.8453</td> <td>          -0.7943j</td> <td>           1.1599</td> <td>          -0.1201</td>\n",
              "</tr>\n",
              "<tr>\n",
              "  <th>MA.2</th> <td>           0.8453</td> <td>          +0.7943j</td> <td>           1.1599</td> <td>           0.1201</td>\n",
              "</tr>\n",
              "</table>"
            ],
            "text/plain": [
              "<class 'statsmodels.iolib.summary.Summary'>\n",
              "\"\"\"\n",
              "                              ARMA Model Results                              \n",
              "==============================================================================\n",
              "Dep. Variable:             Close_diff   No. Observations:                 4665\n",
              "Model:                     ARMA(2, 2)   Log Likelihood              -24767.594\n",
              "Method:                       css-mle   S.D. of innovations             48.925\n",
              "Date:                Mon, 30 Nov 2020   AIC                          49547.188\n",
              "Time:                        16:46:43   BIC                          49585.875\n",
              "Sample:                    01-04-2000   HQIC                         49560.795\n",
              "                         - 09-26-2018                                         \n",
              "====================================================================================\n",
              "                       coef    std err          z      P>|z|      [0.025      0.975]\n",
              "------------------------------------------------------------------------------------\n",
              "const                0.0034      0.701      0.005      0.996      -1.370       1.377\n",
              "ar.L1.Close_diff     1.2919      0.098     13.218      0.000       1.100       1.483\n",
              "ar.L2.Close_diff    -0.7896      0.138     -5.723      0.000      -1.060      -0.519\n",
              "ma.L1.Close_diff    -1.2565      0.107    -11.720      0.000      -1.467      -1.046\n",
              "ma.L2.Close_diff     0.7433      0.151      4.916      0.000       0.447       1.040\n",
              "                                    Roots                                    \n",
              "=============================================================================\n",
              "                  Real          Imaginary           Modulus         Frequency\n",
              "-----------------------------------------------------------------------------\n",
              "AR.1            0.8181           -0.7728j            1.1254           -0.1205\n",
              "AR.2            0.8181           +0.7728j            1.1254            0.1205\n",
              "MA.1            0.8453           -0.7943j            1.1599           -0.1201\n",
              "MA.2            0.8453           +0.7943j            1.1599            0.1201\n",
              "-----------------------------------------------------------------------------\n",
              "\"\"\""
            ]
          },
          "metadata": {
            "tags": []
          },
          "execution_count": 65
        }
      ]
    },
    {
      "cell_type": "code",
      "metadata": {
        "colab": {
          "base_uri": "https://localhost:8080/"
        },
        "id": "-SqDJf71WuKI",
        "outputId": "ee584f33-a99f-4b48-fd76-f39fda0e8af2"
      },
      "source": [
        "pred=model_Close_diff.predict(start=4000,end=4500)\n",
        "#pred.index=SBIN_clean_df.index[start:end+1]\n",
        "pred"
      ],
      "execution_count": 66,
      "outputs": [
        {
          "output_type": "execute_result",
          "data": {
            "text/plain": [
              "Date\n",
              "2016-01-20    0.441187\n",
              "2016-01-21    0.162388\n",
              "2016-01-22    0.377364\n",
              "2016-01-25    0.583241\n",
              "2016-01-27   -0.020992\n",
              "                ...   \n",
              "2018-01-19   -0.113059\n",
              "2018-01-22   -0.000777\n",
              "2018-01-23   -0.290319\n",
              "2018-01-24    0.175135\n",
              "2018-01-25    0.317892\n",
              "Freq: D, Length: 501, dtype: float64"
            ]
          },
          "metadata": {
            "tags": []
          },
          "execution_count": 66
        }
      ]
    },
    {
      "cell_type": "code",
      "metadata": {
        "colab": {
          "base_uri": "https://localhost:8080/"
        },
        "id": "kjndhk6YW6ca",
        "outputId": "f2ef3740-765b-4df3-8f99-31579ae57d7d"
      },
      "source": [
        "train['Close_diff'][4000:5000]"
      ],
      "execution_count": 67,
      "outputs": [
        {
          "output_type": "execute_result",
          "data": {
            "text/plain": [
              "Date\n",
              "2016-01-20   -9.30\n",
              "2016-01-21    1.95\n",
              "2016-01-22    9.00\n",
              "2016-01-25   -1.65\n",
              "2016-01-27    1.45\n",
              "              ... \n",
              "2018-09-19   -2.30\n",
              "2018-09-21   -0.90\n",
              "2018-09-24   -6.25\n",
              "2018-09-25    6.55\n",
              "2018-09-26   -7.05\n",
              "Freq: D, Name: Close_diff, Length: 665, dtype: float64"
            ]
          },
          "metadata": {
            "tags": []
          },
          "execution_count": 67
        }
      ]
    },
    {
      "cell_type": "code",
      "metadata": {
        "id": "WcktrDzzgYpb"
      },
      "source": [
        "##arima was not able to predct our data well"
      ],
      "execution_count": 68,
      "outputs": []
    },
    {
      "cell_type": "code",
      "metadata": {
        "id": "IZk0GsTJgsN3"
      },
      "source": [
        "##using LSTM"
      ],
      "execution_count": 69,
      "outputs": []
    },
    {
      "cell_type": "code",
      "metadata": {
        "colab": {
          "base_uri": "https://localhost:8080/",
          "height": 282
        },
        "id": "yj6o-4PXgulF",
        "outputId": "35e3beab-63d8-40a3-8abe-c83d0f3d289e"
      },
      "source": [
        "df1=SBIN_clean_df['Close'].reset_index().drop(['Date'],axis=1)\n",
        "import matplotlib.pyplot as plt\n",
        "plt.plot(df1)\n"
      ],
      "execution_count": 77,
      "outputs": [
        {
          "output_type": "execute_result",
          "data": {
            "text/plain": [
              "[<matplotlib.lines.Line2D at 0x7fca1ce69160>]"
            ]
          },
          "metadata": {
            "tags": []
          },
          "execution_count": 77
        },
        {
          "output_type": "display_data",
          "data": {
            "image/png": "[encoded data removed]",
            "text/plain": [
              "<Figure size 432x288 with 1 Axes>"
            ]
          },
          "metadata": {
            "tags": [],
            "needs_background": "light"
          }
        }
      ]
    },
    {
      "cell_type": "code",
      "metadata": {
        "id": "ofYeeMpaDaUE"
      },
      "source": [
        "import numpy as np\n",
        "from sklearn.preprocessing import MinMaxScaler\n",
        "scaler=MinMaxScaler(feature_range=(0,1))\n",
        "df1=scaler.fit_transform(np.array(df1).reshape(-1,1))"
      ],
      "execution_count": 81,
      "outputs": []
    },
    {
      "cell_type": "code",
      "metadata": {
        "id": "k9UulQZzEBYv"
      },
      "source": [
        "training_size=int(len(df1)*0.65)\n",
        "test_size=len(df1)-training_size\n",
        "train_data,test_data=df1[0:training_size,:],df1[training_size:len(df1),:1]"
      ],
      "execution_count": 82,
      "outputs": []
    },
    {
      "cell_type": "code",
      "metadata": {
        "colab": {
          "base_uri": "https://localhost:8080/"
        },
        "id": "OQuu5VYTFR5w",
        "outputId": "2974588b-abfd-499f-9615-13e1e0dfd6d9"
      },
      "source": [
        "train_data.shape"
      ],
      "execution_count": 83,
      "outputs": [
        {
          "output_type": "execute_result",
          "data": {
            "text/plain": [
              "(3368, 1)"
            ]
          },
          "metadata": {
            "tags": []
          },
          "execution_count": 83
        }
      ]
    },
    {
      "cell_type": "code",
      "metadata": {
        "colab": {
          "base_uri": "https://localhost:8080/"
        },
        "id": "vH6L7h5rFVMi",
        "outputId": "ccadb540-eba6-4c55-a79f-9e57dcb34dd7"
      },
      "source": [
        "test_data.shape"
      ],
      "execution_count": 85,
      "outputs": [
        {
          "output_type": "execute_result",
          "data": {
            "text/plain": [
              "(1815, 1)"
            ]
          },
          "metadata": {
            "tags": []
          },
          "execution_count": 85
        }
      ]
    },
    {
      "cell_type": "code",
      "metadata": {
        "colab": {
          "base_uri": "https://localhost:8080/"
        },
        "id": "Vu1QqrdoFXMd",
        "outputId": "a2914d70-95bc-4333-d8a0-24ca9c75a865"
      },
      "source": [
        "train_data[:2]"
      ],
      "execution_count": 87,
      "outputs": [
        {
          "output_type": "execute_result",
          "data": {
            "text/plain": [
              "array([[0.03513514],\n",
              "       [0.03195461]])"
            ]
          },
          "metadata": {
            "tags": []
          },
          "execution_count": 87
        }
      ]
    },
    {
      "cell_type": "code",
      "metadata": {
        "id": "eK2QJg7SGk-_"
      },
      "source": [
        "#X_train = []\n",
        "#y_train = []\n",
        "## here for predicting i record we take last 60 records ,\n",
        "## in lstm for predicting one record we go train it on last 60 days , while in arima we pass last period to predict next period \n",
        "##eg in lstm to predict stock for feb we pass for jan , to predict for mar we pass feb , but in arima to predict for feb march june any no of months we train it on jan\n"
      ],
      "execution_count": 90,
      "outputs": []
    },
    {
      "cell_type": "code",
      "metadata": {
        "id": "7dYZ_57XHdN7"
      },
      "source": [
        "#for i in range(60, len(train_data)):\n",
        " #   X_train.append(training_set_scaled[i-60:i, 0])\n",
        "  #  y_train.append(training_set_scaled[i, 0])\n",
        "#X_train, y_train = np.array(X_train), np.array(y_train)\n"
      ],
      "execution_count": 91,
      "outputs": []
    },
    {
      "cell_type": "code",
      "metadata": {
        "id": "KNNyd9hsJWXg"
      },
      "source": [
        "# convert an array of values into a dataset matrix\n",
        "def create_dataset(dataset, time_step=1):\n",
        "\tdataX, dataY = [], []\n",
        "\tfor i in range(len(dataset)-time_step-1):\n",
        "\t\ta = dataset[i:(i+time_step), 0]   ###i=0, 0,1,2,3-----99   100 \n",
        "\t\tdataX.append(a)\n",
        "\t\tdataY.append(dataset[i + time_step, 0])\n",
        "\treturn np.array(dataX), np.array(dataY)"
      ],
      "execution_count": 96,
      "outputs": []
    },
    {
      "cell_type": "code",
      "metadata": {
        "id": "Cr6GvbBhJa-e"
      },
      "source": [
        "time_step = 100\n",
        "X_train, y_train = create_dataset(train_data, time_step)\n",
        "X_test, ytest = create_dataset(test_data, time_step)"
      ],
      "execution_count": 97,
      "outputs": []
    },
    {
      "cell_type": "code",
      "metadata": {
        "colab": {
          "base_uri": "https://localhost:8080/"
        },
        "id": "iICpVkGvKQyA",
        "outputId": "dc824423-4503-47e7-8e5e-c2afb871a397"
      },
      "source": [
        "X_train.shape"
      ],
      "execution_count": 98,
      "outputs": [
        {
          "output_type": "execute_result",
          "data": {
            "text/plain": [
              "(3267, 100)"
            ]
          },
          "metadata": {
            "tags": []
          },
          "execution_count": 98
        }
      ]
    },
    {
      "cell_type": "code",
      "metadata": {
        "colab": {
          "base_uri": "https://localhost:8080/"
        },
        "id": "8ul42q7nKaf4",
        "outputId": "6de99d30-7397-4af4-fceb-8dcad93ee811"
      },
      "source": [
        "X_test.shape"
      ],
      "execution_count": 100,
      "outputs": [
        {
          "output_type": "execute_result",
          "data": {
            "text/plain": [
              "(1714, 100)"
            ]
          },
          "metadata": {
            "tags": []
          },
          "execution_count": 100
        }
      ]
    },
    {
      "cell_type": "code",
      "metadata": {
        "id": "Ac29Y-phKrev"
      },
      "source": [
        "# reshape input to be [samples, time steps, features] which is required for LSTM\n",
        "X_train =X_train.reshape(X_train.shape[0],X_train.shape[1] , 1)\n",
        "X_test = X_test.reshape(X_test.shape[0],X_test.shape[1] , 1)"
      ],
      "execution_count": 101,
      "outputs": []
    },
    {
      "cell_type": "code",
      "metadata": {
        "id": "kFJKcM2CLQjj"
      },
      "source": [
        "### Create the Stacked LSTM model\n",
        "from tensorflow.keras.models import Sequential\n",
        "from tensorflow.keras.layers import Dense\n",
        "from tensorflow.keras.layers import LSTM"
      ],
      "execution_count": 102,
      "outputs": []
    },
    {
      "cell_type": "code",
      "metadata": {
        "colab": {
          "base_uri": "https://localhost:8080/"
        },
        "id": "JB1AAmvFLWCU",
        "outputId": "da87b720-25d0-419e-a6f8-27d0773037e7"
      },
      "source": [
        "model=Sequential()\n",
        "model.add(LSTM(50,return_sequences=True,input_shape=(100,1)))\n",
        "model.add(LSTM(50,return_sequences=True))\n",
        "model.add(LSTM(50))\n",
        "model.add(Dense(1))\n",
        "model.compile(loss='mean_squared_error',optimizer='adam')\n",
        "model.summary()"
      ],
      "execution_count": 104,
      "outputs": [
        {
          "output_type": "stream",
          "text": [
            "Model: \"sequential\"\n",
            "_________________________________________________________________\n",
            "Layer (type)                 Output Shape              Param #   \n",
            "=================================================================\n",
            "lstm (LSTM)                  (None, 100, 50)           10400     \n",
            "_________________________________________________________________\n",
            "lstm_1 (LSTM)                (None, 100, 50)           20200     \n",
            "_________________________________________________________________\n",
            "lstm_2 (LSTM)                (None, 50)                20200     \n",
            "_________________________________________________________________\n",
            "dense (Dense)                (None, 1)                 51        \n",
            "=================================================================\n",
            "Total params: 50,851\n",
            "Trainable params: 50,851\n",
            "Non-trainable params: 0\n",
            "_________________________________________________________________\n"
          ],
          "name": "stdout"
        }
      ]
    },
    {
      "cell_type": "code",
      "metadata": {
        "colab": {
          "base_uri": "https://localhost:8080/"
        },
        "id": "hJmAyofvLaVa",
        "outputId": "46743618-a84b-453f-81b7-0dc9b59cd081"
      },
      "source": [
        "model.fit(X_train,y_train,validation_data=(X_test,ytest),epochs=100,batch_size=64,verbose=1)\n"
      ],
      "execution_count": 105,
      "outputs": [
        {
          "output_type": "stream",
          "text": [
            "Epoch 1/100\n",
            "52/52 [==============================] - 2s 38ms/step - loss: 0.0118 - val_loss: 0.0031\n",
            "Epoch 2/100\n",
            "52/52 [==============================] - 1s 18ms/step - loss: 0.0010 - val_loss: 0.0029\n",
            "Epoch 3/100\n",
            "52/52 [==============================] - 1s 18ms/step - loss: 9.9489e-04 - val_loss: 0.0028\n",
            "Epoch 4/100\n",
            "52/52 [==============================] - 1s 18ms/step - loss: 8.2456e-04 - val_loss: 0.0024\n",
            "Epoch 5/100\n",
            "52/52 [==============================] - 1s 18ms/step - loss: 7.2530e-04 - val_loss: 0.0021\n",
            "Epoch 6/100\n",
            "52/52 [==============================] - 1s 18ms/step - loss: 8.1550e-04 - val_loss: 0.0021\n",
            "Epoch 7/100\n",
            "52/52 [==============================] - 1s 18ms/step - loss: 6.7579e-04 - val_loss: 0.0020\n",
            "Epoch 8/100\n",
            "52/52 [==============================] - 1s 18ms/step - loss: 6.2599e-04 - val_loss: 0.0022\n",
            "Epoch 9/100\n",
            "52/52 [==============================] - 1s 18ms/step - loss: 7.2017e-04 - val_loss: 0.0017\n",
            "Epoch 10/100\n",
            "52/52 [==============================] - 1s 18ms/step - loss: 5.6273e-04 - val_loss: 0.0017\n",
            "Epoch 11/100\n",
            "52/52 [==============================] - 1s 18ms/step - loss: 5.8025e-04 - val_loss: 0.0015\n",
            "Epoch 12/100\n",
            "52/52 [==============================] - 1s 18ms/step - loss: 5.4945e-04 - val_loss: 0.0019\n",
            "Epoch 13/100\n",
            "52/52 [==============================] - 1s 18ms/step - loss: 5.7414e-04 - val_loss: 0.0014\n",
            "Epoch 14/100\n",
            "52/52 [==============================] - 1s 18ms/step - loss: 4.8349e-04 - val_loss: 0.0014\n",
            "Epoch 15/100\n",
            "52/52 [==============================] - 1s 18ms/step - loss: 4.6912e-04 - val_loss: 0.0013\n",
            "Epoch 16/100\n",
            "52/52 [==============================] - 1s 19ms/step - loss: 4.8638e-04 - val_loss: 0.0012\n",
            "Epoch 17/100\n",
            "52/52 [==============================] - 1s 18ms/step - loss: 5.6397e-04 - val_loss: 0.0013\n",
            "Epoch 18/100\n",
            "52/52 [==============================] - 1s 18ms/step - loss: 4.1659e-04 - val_loss: 0.0013\n",
            "Epoch 19/100\n",
            "52/52 [==============================] - 1s 18ms/step - loss: 4.9546e-04 - val_loss: 0.0011\n",
            "Epoch 20/100\n",
            "52/52 [==============================] - 1s 18ms/step - loss: 4.5752e-04 - val_loss: 0.0010\n",
            "Epoch 21/100\n",
            "52/52 [==============================] - 1s 18ms/step - loss: 3.5331e-04 - val_loss: 0.0010\n",
            "Epoch 22/100\n",
            "52/52 [==============================] - 1s 18ms/step - loss: 3.2026e-04 - val_loss: 9.8154e-04\n",
            "Epoch 23/100\n",
            "52/52 [==============================] - 1s 18ms/step - loss: 3.2636e-04 - val_loss: 8.7394e-04\n",
            "Epoch 24/100\n",
            "52/52 [==============================] - 1s 18ms/step - loss: 3.2880e-04 - val_loss: 8.5437e-04\n",
            "Epoch 25/100\n",
            "52/52 [==============================] - 1s 18ms/step - loss: 2.9189e-04 - val_loss: 7.9861e-04\n",
            "Epoch 26/100\n",
            "52/52 [==============================] - 1s 18ms/step - loss: 3.0913e-04 - val_loss: 7.9428e-04\n",
            "Epoch 27/100\n",
            "52/52 [==============================] - 1s 18ms/step - loss: 2.7981e-04 - val_loss: 7.5497e-04\n",
            "Epoch 28/100\n",
            "52/52 [==============================] - 1s 18ms/step - loss: 2.8379e-04 - val_loss: 7.5010e-04\n",
            "Epoch 29/100\n",
            "52/52 [==============================] - 1s 18ms/step - loss: 2.5293e-04 - val_loss: 6.8936e-04\n",
            "Epoch 30/100\n",
            "52/52 [==============================] - 1s 18ms/step - loss: 4.4111e-04 - val_loss: 8.4585e-04\n",
            "Epoch 31/100\n",
            "52/52 [==============================] - 1s 18ms/step - loss: 2.7116e-04 - val_loss: 7.4913e-04\n",
            "Epoch 32/100\n",
            "52/52 [==============================] - 1s 18ms/step - loss: 3.4317e-04 - val_loss: 6.8836e-04\n",
            "Epoch 33/100\n",
            "52/52 [==============================] - 1s 18ms/step - loss: 2.1656e-04 - val_loss: 6.4825e-04\n",
            "Epoch 34/100\n",
            "52/52 [==============================] - 1s 19ms/step - loss: 2.0632e-04 - val_loss: 5.8775e-04\n",
            "Epoch 35/100\n",
            "52/52 [==============================] - 1s 18ms/step - loss: 2.4248e-04 - val_loss: 6.2307e-04\n",
            "Epoch 36/100\n",
            "52/52 [==============================] - 1s 18ms/step - loss: 2.1551e-04 - val_loss: 6.0573e-04\n",
            "Epoch 37/100\n",
            "52/52 [==============================] - 1s 18ms/step - loss: 2.2137e-04 - val_loss: 5.3536e-04\n",
            "Epoch 38/100\n",
            "52/52 [==============================] - 1s 18ms/step - loss: 1.7674e-04 - val_loss: 5.0552e-04\n",
            "Epoch 39/100\n",
            "52/52 [==============================] - 1s 18ms/step - loss: 1.9972e-04 - val_loss: 5.1797e-04\n",
            "Epoch 40/100\n",
            "52/52 [==============================] - 1s 18ms/step - loss: 1.8645e-04 - val_loss: 5.0056e-04\n",
            "Epoch 41/100\n",
            "52/52 [==============================] - 1s 18ms/step - loss: 1.8500e-04 - val_loss: 5.1804e-04\n",
            "Epoch 42/100\n",
            "52/52 [==============================] - 1s 18ms/step - loss: 1.6904e-04 - val_loss: 4.5536e-04\n",
            "Epoch 43/100\n",
            "52/52 [==============================] - 1s 18ms/step - loss: 1.6563e-04 - val_loss: 4.4235e-04\n",
            "Epoch 44/100\n",
            "52/52 [==============================] - 1s 18ms/step - loss: 1.5539e-04 - val_loss: 4.3605e-04\n",
            "Epoch 45/100\n",
            "52/52 [==============================] - 1s 19ms/step - loss: 1.4880e-04 - val_loss: 4.3979e-04\n",
            "Epoch 46/100\n",
            "52/52 [==============================] - 1s 18ms/step - loss: 1.6493e-04 - val_loss: 4.2621e-04\n",
            "Epoch 47/100\n",
            "52/52 [==============================] - 1s 18ms/step - loss: 1.4641e-04 - val_loss: 4.1931e-04\n",
            "Epoch 48/100\n",
            "52/52 [==============================] - 1s 18ms/step - loss: 2.3531e-04 - val_loss: 5.5843e-04\n",
            "Epoch 49/100\n",
            "52/52 [==============================] - 1s 18ms/step - loss: 1.7936e-04 - val_loss: 4.1641e-04\n",
            "Epoch 50/100\n",
            "52/52 [==============================] - 1s 18ms/step - loss: 1.2921e-04 - val_loss: 4.1149e-04\n",
            "Epoch 51/100\n",
            "52/52 [==============================] - 1s 18ms/step - loss: 1.4750e-04 - val_loss: 4.5694e-04\n",
            "Epoch 52/100\n",
            "52/52 [==============================] - 1s 18ms/step - loss: 1.9302e-04 - val_loss: 4.2449e-04\n",
            "Epoch 53/100\n",
            "52/52 [==============================] - 1s 18ms/step - loss: 1.3609e-04 - val_loss: 4.3977e-04\n",
            "Epoch 54/100\n",
            "52/52 [==============================] - 1s 18ms/step - loss: 1.3551e-04 - val_loss: 3.9704e-04\n",
            "Epoch 55/100\n",
            "52/52 [==============================] - 1s 18ms/step - loss: 1.5476e-04 - val_loss: 4.0028e-04\n",
            "Epoch 56/100\n",
            "52/52 [==============================] - 1s 18ms/step - loss: 1.3721e-04 - val_loss: 5.0542e-04\n",
            "Epoch 57/100\n",
            "52/52 [==============================] - 1s 18ms/step - loss: 2.0713e-04 - val_loss: 3.9355e-04\n",
            "Epoch 58/100\n",
            "52/52 [==============================] - 1s 18ms/step - loss: 1.3458e-04 - val_loss: 4.1789e-04\n",
            "Epoch 59/100\n",
            "52/52 [==============================] - 1s 18ms/step - loss: 1.4080e-04 - val_loss: 4.0246e-04\n",
            "Epoch 60/100\n",
            "52/52 [==============================] - 1s 18ms/step - loss: 1.2789e-04 - val_loss: 3.8592e-04\n",
            "Epoch 61/100\n",
            "52/52 [==============================] - 1s 18ms/step - loss: 1.2083e-04 - val_loss: 4.0876e-04\n",
            "Epoch 62/100\n",
            "52/52 [==============================] - 1s 17ms/step - loss: 1.4796e-04 - val_loss: 3.9332e-04\n",
            "Epoch 63/100\n",
            "52/52 [==============================] - 1s 18ms/step - loss: 1.2491e-04 - val_loss: 4.0164e-04\n",
            "Epoch 64/100\n",
            "52/52 [==============================] - 1s 18ms/step - loss: 1.3560e-04 - val_loss: 3.8671e-04\n",
            "Epoch 65/100\n",
            "52/52 [==============================] - 1s 18ms/step - loss: 1.3154e-04 - val_loss: 4.2643e-04\n",
            "Epoch 66/100\n",
            "52/52 [==============================] - 1s 18ms/step - loss: 1.2857e-04 - val_loss: 3.9253e-04\n",
            "Epoch 67/100\n",
            "52/52 [==============================] - 1s 18ms/step - loss: 1.1534e-04 - val_loss: 4.0343e-04\n",
            "Epoch 68/100\n",
            "52/52 [==============================] - 1s 19ms/step - loss: 1.3769e-04 - val_loss: 4.8068e-04\n",
            "Epoch 69/100\n",
            "52/52 [==============================] - 1s 18ms/step - loss: 1.3422e-04 - val_loss: 5.5130e-04\n",
            "Epoch 70/100\n",
            "52/52 [==============================] - 1s 18ms/step - loss: 2.0963e-04 - val_loss: 4.0691e-04\n",
            "Epoch 71/100\n",
            "52/52 [==============================] - 1s 18ms/step - loss: 1.1446e-04 - val_loss: 3.9381e-04\n",
            "Epoch 72/100\n",
            "52/52 [==============================] - 1s 18ms/step - loss: 1.1877e-04 - val_loss: 4.8293e-04\n",
            "Epoch 73/100\n",
            "52/52 [==============================] - 1s 18ms/step - loss: 1.4565e-04 - val_loss: 3.9037e-04\n",
            "Epoch 74/100\n",
            "52/52 [==============================] - 1s 18ms/step - loss: 1.2075e-04 - val_loss: 4.1937e-04\n",
            "Epoch 75/100\n",
            "52/52 [==============================] - 1s 19ms/step - loss: 1.2002e-04 - val_loss: 3.8711e-04\n",
            "Epoch 76/100\n",
            "52/52 [==============================] - 1s 18ms/step - loss: 1.2104e-04 - val_loss: 4.1740e-04\n",
            "Epoch 77/100\n",
            "52/52 [==============================] - 1s 18ms/step - loss: 1.8162e-04 - val_loss: 4.2168e-04\n",
            "Epoch 78/100\n",
            "52/52 [==============================] - 1s 19ms/step - loss: 1.4252e-04 - val_loss: 3.8650e-04\n",
            "Epoch 79/100\n",
            "52/52 [==============================] - 1s 18ms/step - loss: 1.1828e-04 - val_loss: 3.8750e-04\n",
            "Epoch 80/100\n",
            "52/52 [==============================] - 1s 18ms/step - loss: 1.3846e-04 - val_loss: 4.1212e-04\n",
            "Epoch 81/100\n",
            "52/52 [==============================] - 1s 18ms/step - loss: 1.4848e-04 - val_loss: 4.6668e-04\n",
            "Epoch 82/100\n",
            "52/52 [==============================] - 1s 18ms/step - loss: 1.4412e-04 - val_loss: 3.9004e-04\n",
            "Epoch 83/100\n",
            "52/52 [==============================] - 1s 18ms/step - loss: 1.3681e-04 - val_loss: 3.8781e-04\n",
            "Epoch 84/100\n",
            "52/52 [==============================] - 1s 18ms/step - loss: 1.4082e-04 - val_loss: 4.0557e-04\n",
            "Epoch 85/100\n",
            "52/52 [==============================] - 1s 18ms/step - loss: 1.3192e-04 - val_loss: 4.2384e-04\n",
            "Epoch 86/100\n",
            "52/52 [==============================] - 1s 19ms/step - loss: 1.2920e-04 - val_loss: 4.1408e-04\n",
            "Epoch 87/100\n",
            "52/52 [==============================] - 1s 19ms/step - loss: 1.3032e-04 - val_loss: 4.0367e-04\n",
            "Epoch 88/100\n",
            "52/52 [==============================] - 1s 19ms/step - loss: 1.2720e-04 - val_loss: 4.0420e-04\n",
            "Epoch 89/100\n",
            "52/52 [==============================] - 1s 19ms/step - loss: 1.2423e-04 - val_loss: 3.9572e-04\n",
            "Epoch 90/100\n",
            "52/52 [==============================] - 1s 19ms/step - loss: 1.2440e-04 - val_loss: 4.2211e-04\n",
            "Epoch 91/100\n",
            "52/52 [==============================] - 1s 19ms/step - loss: 1.3181e-04 - val_loss: 4.3956e-04\n",
            "Epoch 92/100\n",
            "52/52 [==============================] - 1s 19ms/step - loss: 1.9136e-04 - val_loss: 4.0906e-04\n",
            "Epoch 93/100\n",
            "52/52 [==============================] - 1s 19ms/step - loss: 1.3023e-04 - val_loss: 3.8822e-04\n",
            "Epoch 94/100\n",
            "52/52 [==============================] - 1s 19ms/step - loss: 1.2356e-04 - val_loss: 3.9943e-04\n",
            "Epoch 95/100\n",
            "52/52 [==============================] - 1s 19ms/step - loss: 1.2354e-04 - val_loss: 3.8998e-04\n",
            "Epoch 96/100\n",
            "52/52 [==============================] - 1s 18ms/step - loss: 1.2342e-04 - val_loss: 3.9730e-04\n",
            "Epoch 97/100\n",
            "52/52 [==============================] - 1s 18ms/step - loss: 1.1849e-04 - val_loss: 3.8878e-04\n",
            "Epoch 98/100\n",
            "52/52 [==============================] - 1s 18ms/step - loss: 1.1873e-04 - val_loss: 4.2768e-04\n",
            "Epoch 99/100\n",
            "52/52 [==============================] - 1s 19ms/step - loss: 1.4061e-04 - val_loss: 3.9496e-04\n",
            "Epoch 100/100\n",
            "52/52 [==============================] - 1s 19ms/step - loss: 1.3809e-04 - val_loss: 4.8056e-04\n"
          ],
          "name": "stdout"
        },
        {
          "output_type": "execute_result",
          "data": {
            "text/plain": [
              "<tensorflow.python.keras.callbacks.History at 0x7fc9ede32a20>"
            ]
          },
          "metadata": {
            "tags": []
          },
          "execution_count": 105
        }
      ]
    },
    {
      "cell_type": "code",
      "metadata": {
        "id": "5MYsMpduL8nd"
      },
      "source": [
        "train_predict=model.predict(X_train)\n",
        "test_predict=model.predict(X_test)"
      ],
      "execution_count": 106,
      "outputs": []
    },
    {
      "cell_type": "code",
      "metadata": {
        "id": "Wsc3u2fbNceU"
      },
      "source": [
        "##Transformback to original form\n",
        "train_predict=scaler.inverse_transform(train_predict)\n",
        "test_predict=scaler.inverse_transform(test_predict)"
      ],
      "execution_count": 107,
      "outputs": []
    },
    {
      "cell_type": "code",
      "metadata": {
        "colab": {
          "base_uri": "https://localhost:8080/"
        },
        "id": "WSVGOVk6Ne14",
        "outputId": "39ce1978-d2b1-4ca3-ecc0-fe7373602499"
      },
      "source": [
        "### Calculate RMSE performance metrics\n",
        "import math\n",
        "from sklearn.metrics import mean_squared_error\n",
        "math.sqrt(mean_squared_error(y_train,train_predict))"
      ],
      "execution_count": 108,
      "outputs": [
        {
          "output_type": "execute_result",
          "data": {
            "text/plain": [
              "1534.960731813276"
            ]
          },
          "metadata": {
            "tags": []
          },
          "execution_count": 108
        }
      ]
    },
    {
      "cell_type": "code",
      "metadata": {
        "colab": {
          "base_uri": "https://localhost:8080/"
        },
        "id": "t2D8PlIvNicf",
        "outputId": "823c0fb6-3943-4812-8eb4-f9bcc4fb58b8"
      },
      "source": [
        "math.sqrt(mean_squared_error(ytest,test_predict))"
      ],
      "execution_count": 109,
      "outputs": [
        {
          "output_type": "execute_result",
          "data": {
            "text/plain": [
              "900.1056502763998"
            ]
          },
          "metadata": {
            "tags": []
          },
          "execution_count": 109
        }
      ]
    },
    {
      "cell_type": "code",
      "metadata": {
        "colab": {
          "base_uri": "https://localhost:8080/",
          "height": 265
        },
        "id": "RTHfqcySNlOs",
        "outputId": "598fda07-a3f6-4da8-d354-dea985515627"
      },
      "source": [
        "\n",
        "### Plotting \n",
        "# shift train predictions for plotting\n",
        "look_back=100\n",
        "trainPredictPlot = np.empty_like(df1)\n",
        "trainPredictPlot[:, :] = np.nan\n",
        "trainPredictPlot[look_back:len(train_predict)+look_back, :] = train_predict\n",
        "# shift test predictions for plotting\n",
        "testPredictPlot = np.empty_like(df1)\n",
        "testPredictPlot[:, :] = np.nan\n",
        "testPredictPlot[len(train_predict)+(look_back*2)+1:len(df1)-1, :] = test_predict\n",
        "# plot baseline and predictions\n",
        "plt.plot(scaler.inverse_transform(df1))\n",
        "plt.plot(trainPredictPlot)\n",
        "plt.plot(testPredictPlot)\n",
        "plt.show()"
      ],
      "execution_count": 113,
      "outputs": [
        {
          "output_type": "display_data",
          "data": {
            "image/png": "[encoded data removed]",
            "text/plain": [
              "<Figure size 432x288 with 1 Axes>"
            ]
          },
          "metadata": {
            "tags": [],
            "needs_background": "light"
          }
        }
      ]
    },
    {
      "cell_type": "code",
      "metadata": {
        "id": "6lqLzZwWNrlC"
      },
      "source": [
        ""
      ],
      "execution_count": null,
      "outputs": []
    }
  ]
}